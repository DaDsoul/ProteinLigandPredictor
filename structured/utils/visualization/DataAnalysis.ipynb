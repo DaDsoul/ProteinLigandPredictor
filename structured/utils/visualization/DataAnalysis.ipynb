{
 "cells": [
  {
   "cell_type": "code",
   "execution_count": 161,
   "metadata": {},
   "outputs": [],
   "source": [
    "import numpy as np\n",
    "import pandas as pd\n",
    "import seaborn as sns\n",
    "import os\n",
    "from collections import defaultdict\n",
    "import matplotlib.pyplot as plt\n"
   ]
  },
  {
   "cell_type": "code",
   "execution_count": 162,
   "metadata": {},
   "outputs": [],
   "source": [
    "path_to_project = \"~/Downloads/AkeFiles/Files/project_ver2/new_version/ProteinLigandPredictor/structured\"\n",
    "\n",
    "# path to results of simulations (realValues)\n",
    "rV_file_name = \"list_of_ligand_out_for_Ragav.txt\"\n",
    "# path to predictions of 39 complexes with 10 poses (predictedValues)\n",
    "pV_file_name = \"logs/predictions_on_test_cases/390_predictions.csv\"\n",
    "# data for affinities of complexes (affinityBank)\n",
    "aB_file_name = \"formatted_binding.csv\""
   ]
  },
  {
   "cell_type": "code",
   "execution_count": 163,
   "metadata": {},
   "outputs": [],
   "source": [
    "rV_file_path = (f\"{path_to_project}/{rV_file_name}\")\n",
    "pV_file_path = (f\"{path_to_project}/{pV_file_name}\")\n",
    "aB_file_path = (f\"{path_to_project}/{aB_file_name}\")\n",
    "\n",
    "rV = pd.read_csv(rV_file_path, sep = \"\\t\", names = [\"rec\",\"lig\",\"dock\",\"rmsd\",\"pose\",\"score\"])\n",
    "# Deleting the first row with titles\n",
    "rV.drop(0, axis = 0, inplace = True)\n",
    "\n",
    "pV = pd.read_csv(pV_file_path)\n",
    "# Deleting the Unnamed column\n",
    "pV.drop([\"Unnamed: 0\"], axis = 1, inplace = True)\n",
    "\n",
    "aB = pd.read_csv(aB_file_path)\n",
    "aB.drop([\"Unnamed: 0\"], axis = 1, inplace = True)"
   ]
  },
  {
   "cell_type": "code",
   "execution_count": 39,
   "metadata": {},
   "outputs": [
    {
     "data": {
      "text/html": [
       "<div>\n",
       "<style scoped>\n",
       "    .dataframe tbody tr th:only-of-type {\n",
       "        vertical-align: middle;\n",
       "    }\n",
       "\n",
       "    .dataframe tbody tr th {\n",
       "        vertical-align: top;\n",
       "    }\n",
       "\n",
       "    .dataframe thead th {\n",
       "        text-align: right;\n",
       "    }\n",
       "</style>\n",
       "<table border=\"1\" class=\"dataframe\">\n",
       "  <thead>\n",
       "    <tr style=\"text-align: right;\">\n",
       "      <th></th>\n",
       "      <th>rec</th>\n",
       "      <th>lig</th>\n",
       "      <th>dock</th>\n",
       "      <th>rmsd</th>\n",
       "      <th>pose</th>\n",
       "      <th>score</th>\n",
       "    </tr>\n",
       "  </thead>\n",
       "  <tbody>\n",
       "    <tr>\n",
       "      <th>1</th>\n",
       "      <td>1rv1</td>\n",
       "      <td>1rv1</td>\n",
       "      <td>glide</td>\n",
       "      <td>7.16</td>\n",
       "      <td>4</td>\n",
       "      <td>-3.28</td>\n",
       "    </tr>\n",
       "    <tr>\n",
       "      <th>2</th>\n",
       "      <td>1rv1</td>\n",
       "      <td>1rv1</td>\n",
       "      <td>glide</td>\n",
       "      <td>7.62</td>\n",
       "      <td>6</td>\n",
       "      <td>-3.28</td>\n",
       "    </tr>\n",
       "    <tr>\n",
       "      <th>3</th>\n",
       "      <td>1rv1</td>\n",
       "      <td>1rv1</td>\n",
       "      <td>glide</td>\n",
       "      <td>8.64</td>\n",
       "      <td>10</td>\n",
       "      <td>-2.48</td>\n",
       "    </tr>\n",
       "    <tr>\n",
       "      <th>4</th>\n",
       "      <td>1rv1</td>\n",
       "      <td>1rv1</td>\n",
       "      <td>gold</td>\n",
       "      <td>6.71</td>\n",
       "      <td>3</td>\n",
       "      <td>56.04</td>\n",
       "    </tr>\n",
       "    <tr>\n",
       "      <th>5</th>\n",
       "      <td>1rv1</td>\n",
       "      <td>1rv1</td>\n",
       "      <td>gold</td>\n",
       "      <td>7.15</td>\n",
       "      <td>2</td>\n",
       "      <td>56.3</td>\n",
       "    </tr>\n",
       "  </tbody>\n",
       "</table>\n",
       "</div>"
      ],
      "text/plain": [
       "    rec   lig   dock  rmsd pose  score\n",
       "1  1rv1  1rv1  glide  7.16    4  -3.28\n",
       "2  1rv1  1rv1  glide  7.62    6  -3.28\n",
       "3  1rv1  1rv1  glide  8.64   10  -2.48\n",
       "4  1rv1  1rv1   gold  6.71    3  56.04\n",
       "5  1rv1  1rv1   gold  7.15    2   56.3"
      ]
     },
     "execution_count": 39,
     "metadata": {},
     "output_type": "execute_result"
    }
   ],
   "source": [
    "rV.head()"
   ]
  },
  {
   "cell_type": "code",
   "execution_count": 40,
   "metadata": {},
   "outputs": [
    {
     "data": {
      "text/html": [
       "<div>\n",
       "<style scoped>\n",
       "    .dataframe tbody tr th:only-of-type {\n",
       "        vertical-align: middle;\n",
       "    }\n",
       "\n",
       "    .dataframe tbody tr th {\n",
       "        vertical-align: top;\n",
       "    }\n",
       "\n",
       "    .dataframe thead th {\n",
       "        text-align: right;\n",
       "    }\n",
       "</style>\n",
       "<table border=\"1\" class=\"dataframe\">\n",
       "  <thead>\n",
       "    <tr style=\"text-align: right;\">\n",
       "      <th></th>\n",
       "      <th>predictions</th>\n",
       "      <th>data_codes</th>\n",
       "    </tr>\n",
       "  </thead>\n",
       "  <tbody>\n",
       "    <tr>\n",
       "      <th>0</th>\n",
       "      <td>0.102954</td>\n",
       "      <td>1rv1_1</td>\n",
       "    </tr>\n",
       "    <tr>\n",
       "      <th>1</th>\n",
       "      <td>2.118930</td>\n",
       "      <td>1rv1_10</td>\n",
       "    </tr>\n",
       "    <tr>\n",
       "      <th>2</th>\n",
       "      <td>1.138494</td>\n",
       "      <td>1rv1_2</td>\n",
       "    </tr>\n",
       "    <tr>\n",
       "      <th>3</th>\n",
       "      <td>0.336687</td>\n",
       "      <td>1rv1_3</td>\n",
       "    </tr>\n",
       "    <tr>\n",
       "      <th>4</th>\n",
       "      <td>1.803915</td>\n",
       "      <td>1rv1_4</td>\n",
       "    </tr>\n",
       "  </tbody>\n",
       "</table>\n",
       "</div>"
      ],
      "text/plain": [
       "   predictions data_codes\n",
       "0     0.102954     1rv1_1\n",
       "1     2.118930    1rv1_10\n",
       "2     1.138494     1rv1_2\n",
       "3     0.336687     1rv1_3\n",
       "4     1.803915     1rv1_4"
      ]
     },
     "execution_count": 40,
     "metadata": {},
     "output_type": "execute_result"
    }
   ],
   "source": [
    "pV.head()"
   ]
  },
  {
   "cell_type": "code",
   "execution_count": 51,
   "metadata": {},
   "outputs": [
    {
     "data": {
      "text/plain": [
       "39"
      ]
     },
     "execution_count": 51,
     "metadata": {},
     "output_type": "execute_result"
    }
   ],
   "source": [
    "# The names of unique complex names\n",
    "complex_list = list(rV['rec'].unique())\n",
    "# Makking the code names uppercase for comparsion facilitation\n",
    "complex_list = list(map(lambda x: x.upper(), complex_list))\n",
    "len(complex_list)"
   ]
  },
  {
   "cell_type": "code",
   "execution_count": 371,
   "metadata": {},
   "outputs": [],
   "source": [
    "from collections import defaultdict\n",
    "\n",
    "class FormatOptions:\n",
    "    '''Class works only \n",
    "    for specific data files\n",
    "    '''\n",
    "    \n",
    "    @staticmethod\n",
    "    def find_best_poses(data, data_code_key = \"data_codes\", affinity_key = \"predictions\", haspose = False):\n",
    "        \"\"\"Finds the best pose of each complex\n",
    "\n",
    "        param data: the DataFrame of complexes\n",
    "        param data_code_key: the name of the key for the code \n",
    "        param affinity_key: the name of the key for the affinity value\n",
    "\n",
    "        return best_pose: the dict containing the key as a code and a value as a tuple of best pose\n",
    "        \"\"\"\n",
    "\n",
    "        best_pose = defaultdict(list)\n",
    "\n",
    "        for index, row in data.iterrows():\n",
    "            compaired_value = row[affinity_key] if isinstance(row[affinity_key], float) else float(row[affinity_key])\n",
    "\n",
    "            if not haspose:\n",
    "                best_pose[row[data_code_key][:4]] = (compaired_value, row[data_code_key])\n",
    "            else:\n",
    "                best_pose[row[data_code_key][:4]] = (compaired_value, f\"{row[data_code_key]}_{(index % 10) + 1}\")\n",
    "\n",
    "        return best_pose \n",
    "    \n",
    "    @staticmethod\n",
    "    def attach_index_or_upper(data, key_name, make_upper = False):\n",
    "        '''Attaches the real pose index to the code names\n",
    "        or make upper case of the code names\n",
    "        \n",
    "        param key_name: the attribute name for the code name\n",
    "        param make_upper: whether to make uppercase of the result code name\n",
    "        '''\n",
    "        for index,row in data.iterrows():\n",
    "            if not make_upper:\n",
    "                row[key_name] = f\"{row[key_name]}_{(index % 9) + 2}\"\n",
    "            else:\n",
    "                row[key_name] = row[key_name].upper()\n",
    "                \n",
    "    @staticmethod \n",
    "    def reset_index(data):\n",
    "        data.reset_index()\n",
    "        if \"index\" in data.columns:\n",
    "            data = data.drop([\"index\"], axis = 1)\n",
    "        return data\n",
    "        "
   ]
  },
  {
   "cell_type": "code",
   "execution_count": 339,
   "metadata": {},
   "outputs": [],
   "source": [
    "# Exclude some columns from the realValues table and change their names\n",
    "formatted_rV = rV.copy()\n",
    "formatted_rV[\"Representative\"] = formatted_rV[\"rec\"]\n",
    "formatted_rV.drop([\"rec\", \"lig\"], axis = 1, inplace = True)"
   ]
  },
  {
   "cell_type": "code",
   "execution_count": 340,
   "metadata": {},
   "outputs": [
    {
     "data": {
      "text/html": [
       "<div>\n",
       "<style scoped>\n",
       "    .dataframe tbody tr th:only-of-type {\n",
       "        vertical-align: middle;\n",
       "    }\n",
       "\n",
       "    .dataframe tbody tr th {\n",
       "        vertical-align: top;\n",
       "    }\n",
       "\n",
       "    .dataframe thead th {\n",
       "        text-align: right;\n",
       "    }\n",
       "</style>\n",
       "<table border=\"1\" class=\"dataframe\">\n",
       "  <thead>\n",
       "    <tr style=\"text-align: right;\">\n",
       "      <th></th>\n",
       "      <th>dock</th>\n",
       "      <th>rmsd</th>\n",
       "      <th>pose</th>\n",
       "      <th>score</th>\n",
       "      <th>Representative</th>\n",
       "    </tr>\n",
       "  </thead>\n",
       "  <tbody>\n",
       "    <tr>\n",
       "      <th>1</th>\n",
       "      <td>glide</td>\n",
       "      <td>7.16</td>\n",
       "      <td>4</td>\n",
       "      <td>-3.28</td>\n",
       "      <td>1rv1</td>\n",
       "    </tr>\n",
       "    <tr>\n",
       "      <th>2</th>\n",
       "      <td>glide</td>\n",
       "      <td>7.62</td>\n",
       "      <td>6</td>\n",
       "      <td>-3.28</td>\n",
       "      <td>1rv1</td>\n",
       "    </tr>\n",
       "    <tr>\n",
       "      <th>3</th>\n",
       "      <td>glide</td>\n",
       "      <td>8.64</td>\n",
       "      <td>10</td>\n",
       "      <td>-2.48</td>\n",
       "      <td>1rv1</td>\n",
       "    </tr>\n",
       "    <tr>\n",
       "      <th>4</th>\n",
       "      <td>gold</td>\n",
       "      <td>6.71</td>\n",
       "      <td>3</td>\n",
       "      <td>56.04</td>\n",
       "      <td>1rv1</td>\n",
       "    </tr>\n",
       "    <tr>\n",
       "      <th>5</th>\n",
       "      <td>gold</td>\n",
       "      <td>7.15</td>\n",
       "      <td>2</td>\n",
       "      <td>56.3</td>\n",
       "      <td>1rv1</td>\n",
       "    </tr>\n",
       "  </tbody>\n",
       "</table>\n",
       "</div>"
      ],
      "text/plain": [
       "    dock  rmsd pose  score Representative\n",
       "1  glide  7.16    4  -3.28           1rv1\n",
       "2  glide  7.62    6  -3.28           1rv1\n",
       "3  glide  8.64   10  -2.48           1rv1\n",
       "4   gold  6.71    3  56.04           1rv1\n",
       "5   gold  7.15    2   56.3           1rv1"
      ]
     },
     "execution_count": 340,
     "metadata": {},
     "output_type": "execute_result"
    }
   ],
   "source": [
    "formatted_rV.head()"
   ]
  },
  {
   "cell_type": "code",
   "execution_count": 341,
   "metadata": {},
   "outputs": [],
   "source": [
    "# change index so that it starts from zero and delete old index column\n",
    "formatted_rV = formatted_rV.reset_index()\n",
    "formatted_rV.drop([\"index\"], axis = 1, inplace = True)\n",
    "\n",
    "# put right pose indices\n",
    "FormatOptions.attach_index_or_upper(formatted_rV, \"Representative\")"
   ]
  },
  {
   "cell_type": "code",
   "execution_count": 342,
   "metadata": {},
   "outputs": [
    {
     "data": {
      "text/html": [
       "<div>\n",
       "<style scoped>\n",
       "    .dataframe tbody tr th:only-of-type {\n",
       "        vertical-align: middle;\n",
       "    }\n",
       "\n",
       "    .dataframe tbody tr th {\n",
       "        vertical-align: top;\n",
       "    }\n",
       "\n",
       "    .dataframe thead th {\n",
       "        text-align: right;\n",
       "    }\n",
       "</style>\n",
       "<table border=\"1\" class=\"dataframe\">\n",
       "  <thead>\n",
       "    <tr style=\"text-align: right;\">\n",
       "      <th></th>\n",
       "      <th>dock</th>\n",
       "      <th>rmsd</th>\n",
       "      <th>pose</th>\n",
       "      <th>score</th>\n",
       "      <th>Representative</th>\n",
       "    </tr>\n",
       "  </thead>\n",
       "  <tbody>\n",
       "    <tr>\n",
       "      <th>0</th>\n",
       "      <td>glide</td>\n",
       "      <td>7.16</td>\n",
       "      <td>4</td>\n",
       "      <td>-3.28</td>\n",
       "      <td>1rv1_2</td>\n",
       "    </tr>\n",
       "    <tr>\n",
       "      <th>1</th>\n",
       "      <td>glide</td>\n",
       "      <td>7.62</td>\n",
       "      <td>6</td>\n",
       "      <td>-3.28</td>\n",
       "      <td>1rv1_3</td>\n",
       "    </tr>\n",
       "    <tr>\n",
       "      <th>2</th>\n",
       "      <td>glide</td>\n",
       "      <td>8.64</td>\n",
       "      <td>10</td>\n",
       "      <td>-2.48</td>\n",
       "      <td>1rv1_4</td>\n",
       "    </tr>\n",
       "    <tr>\n",
       "      <th>3</th>\n",
       "      <td>gold</td>\n",
       "      <td>6.71</td>\n",
       "      <td>3</td>\n",
       "      <td>56.04</td>\n",
       "      <td>1rv1_5</td>\n",
       "    </tr>\n",
       "    <tr>\n",
       "      <th>4</th>\n",
       "      <td>gold</td>\n",
       "      <td>7.15</td>\n",
       "      <td>2</td>\n",
       "      <td>56.3</td>\n",
       "      <td>1rv1_6</td>\n",
       "    </tr>\n",
       "  </tbody>\n",
       "</table>\n",
       "</div>"
      ],
      "text/plain": [
       "    dock  rmsd pose  score Representative\n",
       "0  glide  7.16    4  -3.28         1rv1_2\n",
       "1  glide  7.62    6  -3.28         1rv1_3\n",
       "2  glide  8.64   10  -2.48         1rv1_4\n",
       "3   gold  6.71    3  56.04         1rv1_5\n",
       "4   gold  7.15    2   56.3         1rv1_6"
      ]
     },
     "execution_count": 342,
     "metadata": {},
     "output_type": "execute_result"
    }
   ],
   "source": [
    "formatted_rV.head()"
   ]
  },
  {
   "cell_type": "code",
   "execution_count": 343,
   "metadata": {},
   "outputs": [
    {
     "data": {
      "text/plain": [
       "array(['glide', 'gold', 'vina'], dtype=object)"
      ]
     },
     "execution_count": 343,
     "metadata": {},
     "output_type": "execute_result"
    }
   ],
   "source": [
    "# types of docking \n",
    "formatted_rV[\"dock\"].unique()"
   ]
  },
  {
   "cell_type": "code",
   "execution_count": 344,
   "metadata": {},
   "outputs": [
    {
     "ename": "NameError",
     "evalue": "name 'FormatOptionsformatted_rV' is not defined",
     "output_type": "error",
     "traceback": [
      "\u001b[0;31m---------------------------------------------------------------------------\u001b[0m",
      "\u001b[0;31mNameError\u001b[0m                                 Traceback (most recent call last)",
      "\u001b[0;32m<ipython-input-344-e81de5aed807>\u001b[0m in \u001b[0;36m<module>\u001b[0;34m\u001b[0m\n\u001b[0;32m----> 1\u001b[0;31m \u001b[0mFormatOptionsformatted_rV\u001b[0m\u001b[0;34m[\u001b[0m\u001b[0;34m\"dock\"\u001b[0m\u001b[0;34m]\u001b[0m\u001b[0;34m.\u001b[0m\u001b[0mdescribe\u001b[0m\u001b[0;34m(\u001b[0m\u001b[0;34m)\u001b[0m\u001b[0;34m\u001b[0m\u001b[0;34m\u001b[0m\u001b[0m\n\u001b[0m",
      "\u001b[0;31mNameError\u001b[0m: name 'FormatOptionsformatted_rV' is not defined"
     ]
    }
   ],
   "source": [
    "FormatOptionsformatted_rV[\"dock\"].describe()"
   ]
  },
  {
   "cell_type": "code",
   "execution_count": 498,
   "metadata": {},
   "outputs": [],
   "source": [
    "def make_dock_split(formatted_data, split_by, compare = \"rmsd\", relative = \"score\", useless_columns = [\"pose\"]):\n",
    "    # split realValues by different docking type\n",
    "    splitted = defaultdict(dict)\n",
    "    \n",
    "    for item in formatted_data[split_by].unique():\n",
    "        splitted[item] = formatted_data.loc[formatted_data[split_by].isin([item])]\n",
    "    # delete the useless columns and reset the indices of splitted tables\n",
    "    for key in splitted.keys():\n",
    "        splitted[key] = splitted[key].reset_index()\n",
    "        splitted[key][compare] = splitted[key][compare].astype(float)\n",
    "        splitted[key][relative] = splitted[key][relative].astype(float)\n",
    "        splitted[key].drop([\"index\"], axis = 1, inplace = True)\n",
    "        \n",
    "        intersections = np.intersect1d(useless_columns, splitted[key].columns)\n",
    "        \n",
    "        if len(intersections) > 0:\n",
    "            splitted[key].drop(useless_columns, axis = 1, inplace = True)\n",
    "    \n",
    "    return splitted\n",
    "\n",
    "def compute_correlations(splitted_dict, compare = [\"score\", \"rmsd\"]):\n",
    "    correlation = defaultdict(dict)\n",
    "    for key in splitted_dict.keys():\n",
    "        correlation[key] = (splitted_dict[key].loc[:, compare]).corr()\n",
    "    return correlation\n",
    "\n",
    "def plot_correlations(correlation):\n",
    "    fig, axarr = plt.subplots(len(correlation.keys()), 1, figsize = (8, 8))\n",
    "\n",
    "    for index, key in enumerate(correlation.keys()):\n",
    "        ax = sns.heatmap(\n",
    "            data = correlation[key],\n",
    "            ax = axarr[index],\n",
    "            annot = True,\n",
    "            cbar_kws = {'label':key}\n",
    "        )\n",
    "        ax.figure.axes[-1].yaxis.label.set_size(20)"
   ]
  },
  {
   "cell_type": "code",
   "execution_count": null,
   "metadata": {},
   "outputs": [],
   "source": []
  },
  {
   "cell_type": "code",
   "execution_count": null,
   "metadata": {},
   "outputs": [],
   "source": []
  },
  {
   "cell_type": "code",
   "execution_count": 480,
   "metadata": {},
   "outputs": [],
   "source": [
    "splitted_rV = make_dock_split(formatted_rV, split_by = \"dock\", compare = \"rmsd\", relative = \"score\", useless_columns = [\"pose\"])"
   ]
  },
  {
   "cell_type": "code",
   "execution_count": 481,
   "metadata": {},
   "outputs": [
    {
     "name": "stdout",
     "output_type": "stream",
     "text": [
      "    dock  rmsd  score Representative\n",
      "0  glide  7.16  -3.28         1rv1_2\n",
      "1  glide  7.62  -3.28         1rv1_3\n",
      "2  glide  8.64  -2.48         1rv1_4\n",
      "3  glide  0.42  -6.91         1t4e_2\n",
      "4  glide  4.97  -4.91         1t4e_3\n",
      "****************************************\n",
      "   dock  rmsd  score Representative\n",
      "0  gold  6.71  56.04         1rv1_5\n",
      "1  gold  7.15  56.30         1rv1_6\n",
      "2  gold  8.90  49.49         1rv1_7\n",
      "3  gold  1.00  63.22         1t4e_5\n",
      "4  gold  1.17  62.18         1t4e_6\n",
      "****************************************\n",
      "   dock  rmsd  score Representative\n",
      "0  vina  0.38   -8.1         1rv1_8\n",
      "1  vina  7.50   -5.9         1rv1_9\n",
      "2  vina  8.47   -6.1        1rv1_10\n",
      "3  vina  0.77   -8.5         1t4e_8\n",
      "4  vina  4.67   -6.9         1t4e_9\n",
      "****************************************\n"
     ]
    }
   ],
   "source": [
    "for key in splitted_rV.keys():\n",
    "    print(splitted_rV[key].head())\n",
    "    print(\"*\"*40)"
   ]
  },
  {
   "cell_type": "code",
   "execution_count": 482,
   "metadata": {},
   "outputs": [],
   "source": [
    "correlation_rV = compute_correlations(splitted_rV,compare = [\"score\", \"rmsd\"])"
   ]
  },
  {
   "cell_type": "code",
   "execution_count": 483,
   "metadata": {},
   "outputs": [
    {
     "data": {
      "image/png": "[encoded data removed]",
      "text/plain": [
       "<Figure size 576x576 with 6 Axes>"
      ]
     },
     "metadata": {
      "needs_background": "light"
     },
     "output_type": "display_data"
    }
   ],
   "source": [
    "plot_correlations(correlation_rV)"
   ]
  },
  {
   "cell_type": "code",
   "execution_count": 347,
   "metadata": {},
   "outputs": [],
   "source": [
    "formatted_pV = pV.copy()\n",
    "formatted_pV[\"Representative\"] = formatted_pV[\"data_codes\"]\n",
    "\n",
    "if \"data_codes\" in formatted_pV.columns:\n",
    "    formatted_pV.drop([\"data_codes\"], axis = 1, inplace = True)"
   ]
  },
  {
   "cell_type": "code",
   "execution_count": 348,
   "metadata": {},
   "outputs": [
    {
     "data": {
      "text/plain": [
       "(390, 2)"
      ]
     },
     "execution_count": 348,
     "metadata": {},
     "output_type": "execute_result"
    }
   ],
   "source": [
    "formatted_pV.shape"
   ]
  },
  {
   "cell_type": "code",
   "execution_count": 349,
   "metadata": {},
   "outputs": [
    {
     "data": {
      "text/plain": [
       "(351, 5)"
      ]
     },
     "execution_count": 349,
     "metadata": {},
     "output_type": "execute_result"
    }
   ],
   "source": [
    "formatted_rV.shape"
   ]
  },
  {
   "cell_type": "code",
   "execution_count": 350,
   "metadata": {},
   "outputs": [],
   "source": [
    "# Merge in relative to realValues (their shape is less) by the common column Representative\n",
    "merged_real_predicted = pd.merge(formatted_rV, formatted_pV, on = \"Representative\")"
   ]
  },
  {
   "cell_type": "code",
   "execution_count": 351,
   "metadata": {},
   "outputs": [
    {
     "name": "stdout",
     "output_type": "stream",
     "text": [
      "    dock  rmsd pose  score Representative  predictions\n",
      "0  glide  7.16    4  -3.28         1rv1_2     1.138494\n",
      "1  glide  7.62    6  -3.28         1rv1_3     0.336687\n",
      "2  glide  8.64   10  -2.48         1rv1_4     1.803915\n",
      "3   gold  6.71    3  56.04         1rv1_5     0.437793\n",
      "4   gold  7.15    2   56.3         1rv1_6     0.285932\n",
      "****************************************\n",
      "    dock  rmsd pose  score Representative\n",
      "0  glide  7.16    4  -3.28         1rv1_2\n",
      "1  glide  7.62    6  -3.28         1rv1_3\n",
      "2  glide  8.64   10  -2.48         1rv1_4\n",
      "3   gold  6.71    3  56.04         1rv1_5\n",
      "4   gold  7.15    2   56.3         1rv1_6\n",
      "****************************************\n",
      "   predictions Representative\n",
      "0     0.102954         1rv1_1\n",
      "1     2.118930        1rv1_10\n",
      "2     1.138494         1rv1_2\n",
      "3     0.336687         1rv1_3\n",
      "4     1.803915         1rv1_4\n"
     ]
    }
   ],
   "source": [
    "print(merged_real_predicted.head())\n",
    "print(\"*\"*40)\n",
    "print(formatted_rV.head())\n",
    "print(\"*\"*40)\n",
    "print(formatted_pV.head())"
   ]
  },
  {
   "cell_type": "code",
   "execution_count": 352,
   "metadata": {},
   "outputs": [
    {
     "data": {
      "image/png": "[encoded data removed]",
      "text/plain": [
       "<Figure size 576x576 with 6 Axes>"
      ]
     },
     "metadata": {
      "needs_background": "light"
     },
     "output_type": "display_data"
    }
   ],
   "source": [
    "splitted_pV = make_dock_split(merged_real_predicted, split_by = \"dock\", compare = \"rmsd\", relative = \"predictions\",useless_columns = [\"pose\",\"score\"])\n",
    "correlation_pV = compute_correlations(splitted_pV,compare = [\"predictions\", \"rmsd\"])\n",
    "plot_correlations(correlation_pV)"
   ]
  },
  {
   "cell_type": "code",
   "execution_count": 353,
   "metadata": {},
   "outputs": [
    {
     "ename": "NameError",
     "evalue": "name 'splitted' is not defined",
     "output_type": "error",
     "traceback": [
      "\u001b[0;31m---------------------------------------------------------------------------\u001b[0m",
      "\u001b[0;31mNameError\u001b[0m                                 Traceback (most recent call last)",
      "\u001b[0;32m<ipython-input-353-d528c707d5a7>\u001b[0m in \u001b[0;36m<module>\u001b[0;34m\u001b[0m\n\u001b[0;32m----> 1\u001b[0;31m \u001b[0mnp\u001b[0m\u001b[0;34m.\u001b[0m\u001b[0mintersect1d\u001b[0m\u001b[0;34m(\u001b[0m\u001b[0museless_columns\u001b[0m\u001b[0;34m,\u001b[0m \u001b[0msplitted\u001b[0m\u001b[0;34m[\u001b[0m\u001b[0mkey\u001b[0m\u001b[0;34m]\u001b[0m\u001b[0;34m.\u001b[0m\u001b[0mcolumns\u001b[0m\u001b[0;34m)\u001b[0m\u001b[0;34m\u001b[0m\u001b[0;34m\u001b[0m\u001b[0m\n\u001b[0m",
      "\u001b[0;31mNameError\u001b[0m: name 'splitted' is not defined"
     ]
    }
   ],
   "source": [
    "np.intersect1d(useless_columns, splitted[key].columns)"
   ]
  },
  {
   "cell_type": "code",
   "execution_count": null,
   "metadata": {},
   "outputs": [],
   "source": [
    "'''\n",
    "    Creating the table of rmsd versus predictions\n",
    "    also counting the tenth pose for prediction \n",
    "    and setting rmsd for that pose as 0.1\n",
    "'''"
   ]
  },
  {
   "cell_type": "code",
   "execution_count": 358,
   "metadata": {},
   "outputs": [],
   "source": [
    "merged_rmsd_predictions = pd.merge(formatted_rV, formatted_pV,how = \"outer\", on = \"Representative\")"
   ]
  },
  {
   "cell_type": "code",
   "execution_count": 359,
   "metadata": {},
   "outputs": [],
   "source": [
    "useless_columns = [\"dock\",\"pose\",\"score\"]\n",
    "\n",
    "intersections = np.intersect1d(useless_columns, merged_rmsd_predictions.columns)\n",
    "\n",
    "if len(intersections) == len(useless_columns):\n",
    "    merged_rmsd_predictions.drop(useless_columns, axis = 1, inplace = True)"
   ]
  },
  {
   "cell_type": "code",
   "execution_count": 360,
   "metadata": {},
   "outputs": [],
   "source": [
    "merged_rmsd_predictions.fillna(0.1, inplace = True)"
   ]
  },
  {
   "cell_type": "code",
   "execution_count": 361,
   "metadata": {},
   "outputs": [
    {
     "data": {
      "text/html": [
       "<div>\n",
       "<style scoped>\n",
       "    .dataframe tbody tr th:only-of-type {\n",
       "        vertical-align: middle;\n",
       "    }\n",
       "\n",
       "    .dataframe tbody tr th {\n",
       "        vertical-align: top;\n",
       "    }\n",
       "\n",
       "    .dataframe thead th {\n",
       "        text-align: right;\n",
       "    }\n",
       "</style>\n",
       "<table border=\"1\" class=\"dataframe\">\n",
       "  <thead>\n",
       "    <tr style=\"text-align: right;\">\n",
       "      <th></th>\n",
       "      <th>rmsd</th>\n",
       "      <th>Representative</th>\n",
       "      <th>predictions</th>\n",
       "    </tr>\n",
       "  </thead>\n",
       "  <tbody>\n",
       "    <tr>\n",
       "      <th>380</th>\n",
       "      <td>0.1</td>\n",
       "      <td>5j7f_1</td>\n",
       "      <td>0.222635</td>\n",
       "    </tr>\n",
       "    <tr>\n",
       "      <th>381</th>\n",
       "      <td>0.1</td>\n",
       "      <td>5j7g_1</td>\n",
       "      <td>0.019783</td>\n",
       "    </tr>\n",
       "    <tr>\n",
       "      <th>382</th>\n",
       "      <td>0.1</td>\n",
       "      <td>5lav_1</td>\n",
       "      <td>0.226968</td>\n",
       "    </tr>\n",
       "    <tr>\n",
       "      <th>383</th>\n",
       "      <td>0.1</td>\n",
       "      <td>5law_1</td>\n",
       "      <td>0.159922</td>\n",
       "    </tr>\n",
       "    <tr>\n",
       "      <th>384</th>\n",
       "      <td>0.1</td>\n",
       "      <td>5lay_1</td>\n",
       "      <td>0.032492</td>\n",
       "    </tr>\n",
       "    <tr>\n",
       "      <th>385</th>\n",
       "      <td>0.1</td>\n",
       "      <td>5laz_1</td>\n",
       "      <td>0.443592</td>\n",
       "    </tr>\n",
       "    <tr>\n",
       "      <th>386</th>\n",
       "      <td>0.1</td>\n",
       "      <td>5ln2_1</td>\n",
       "      <td>0.159485</td>\n",
       "    </tr>\n",
       "    <tr>\n",
       "      <th>387</th>\n",
       "      <td>0.1</td>\n",
       "      <td>5oc8_1</td>\n",
       "      <td>0.083629</td>\n",
       "    </tr>\n",
       "    <tr>\n",
       "      <th>388</th>\n",
       "      <td>0.1</td>\n",
       "      <td>5z02_1</td>\n",
       "      <td>0.037828</td>\n",
       "    </tr>\n",
       "    <tr>\n",
       "      <th>389</th>\n",
       "      <td>0.1</td>\n",
       "      <td>5zxf_1</td>\n",
       "      <td>0.059447</td>\n",
       "    </tr>\n",
       "  </tbody>\n",
       "</table>\n",
       "</div>"
      ],
      "text/plain": [
       "    rmsd Representative  predictions\n",
       "380  0.1         5j7f_1     0.222635\n",
       "381  0.1         5j7g_1     0.019783\n",
       "382  0.1         5lav_1     0.226968\n",
       "383  0.1         5law_1     0.159922\n",
       "384  0.1         5lay_1     0.032492\n",
       "385  0.1         5laz_1     0.443592\n",
       "386  0.1         5ln2_1     0.159485\n",
       "387  0.1         5oc8_1     0.083629\n",
       "388  0.1         5z02_1     0.037828\n",
       "389  0.1         5zxf_1     0.059447"
      ]
     },
     "execution_count": 361,
     "metadata": {},
     "output_type": "execute_result"
    }
   ],
   "source": [
    "merged_rmsd_predictions[380:390]"
   ]
  },
  {
   "cell_type": "code",
   "execution_count": 362,
   "metadata": {},
   "outputs": [],
   "source": [
    "# Sort by Representative, so that the old order will preserve\n",
    "merged_rmsd_predictions.sort_values(by = [\"Representative\"], inplace = True)"
   ]
  },
  {
   "cell_type": "code",
   "execution_count": 363,
   "metadata": {},
   "outputs": [
    {
     "data": {
      "text/html": [
       "<div>\n",
       "<style scoped>\n",
       "    .dataframe tbody tr th:only-of-type {\n",
       "        vertical-align: middle;\n",
       "    }\n",
       "\n",
       "    .dataframe tbody tr th {\n",
       "        vertical-align: top;\n",
       "    }\n",
       "\n",
       "    .dataframe thead th {\n",
       "        text-align: right;\n",
       "    }\n",
       "</style>\n",
       "<table border=\"1\" class=\"dataframe\">\n",
       "  <thead>\n",
       "    <tr style=\"text-align: right;\">\n",
       "      <th></th>\n",
       "      <th>rmsd</th>\n",
       "      <th>Representative</th>\n",
       "      <th>predictions</th>\n",
       "    </tr>\n",
       "  </thead>\n",
       "  <tbody>\n",
       "    <tr>\n",
       "      <th>351</th>\n",
       "      <td>0.1</td>\n",
       "      <td>1rv1_1</td>\n",
       "      <td>0.102954</td>\n",
       "    </tr>\n",
       "    <tr>\n",
       "      <th>8</th>\n",
       "      <td>8.47</td>\n",
       "      <td>1rv1_10</td>\n",
       "      <td>2.118930</td>\n",
       "    </tr>\n",
       "    <tr>\n",
       "      <th>0</th>\n",
       "      <td>7.16</td>\n",
       "      <td>1rv1_2</td>\n",
       "      <td>1.138494</td>\n",
       "    </tr>\n",
       "    <tr>\n",
       "      <th>1</th>\n",
       "      <td>7.62</td>\n",
       "      <td>1rv1_3</td>\n",
       "      <td>0.336687</td>\n",
       "    </tr>\n",
       "    <tr>\n",
       "      <th>2</th>\n",
       "      <td>8.64</td>\n",
       "      <td>1rv1_4</td>\n",
       "      <td>1.803915</td>\n",
       "    </tr>\n",
       "  </tbody>\n",
       "</table>\n",
       "</div>"
      ],
      "text/plain": [
       "     rmsd Representative  predictions\n",
       "351   0.1         1rv1_1     0.102954\n",
       "8    8.47        1rv1_10     2.118930\n",
       "0    7.16         1rv1_2     1.138494\n",
       "1    7.62         1rv1_3     0.336687\n",
       "2    8.64         1rv1_4     1.803915"
      ]
     },
     "execution_count": 363,
     "metadata": {},
     "output_type": "execute_result"
    }
   ],
   "source": [
    "merged_rmsd_predictions.head()"
   ]
  },
  {
   "cell_type": "code",
   "execution_count": 375,
   "metadata": {},
   "outputs": [],
   "source": [
    "merged_rmsd_predictions = FormatOptions.reset_index(merged_rmsd_predictions\n",
    "                                                   )"
   ]
  },
  {
   "cell_type": "code",
   "execution_count": 404,
   "metadata": {},
   "outputs": [
    {
     "data": {
      "text/html": [
       "<div>\n",
       "<style scoped>\n",
       "    .dataframe tbody tr th:only-of-type {\n",
       "        vertical-align: middle;\n",
       "    }\n",
       "\n",
       "    .dataframe tbody tr th {\n",
       "        vertical-align: top;\n",
       "    }\n",
       "\n",
       "    .dataframe thead th {\n",
       "        text-align: right;\n",
       "    }\n",
       "</style>\n",
       "<table border=\"1\" class=\"dataframe\">\n",
       "  <thead>\n",
       "    <tr style=\"text-align: right;\">\n",
       "      <th></th>\n",
       "      <th>rmsd</th>\n",
       "      <th>Representative</th>\n",
       "      <th>predictions</th>\n",
       "    </tr>\n",
       "  </thead>\n",
       "  <tbody>\n",
       "    <tr>\n",
       "      <th>0</th>\n",
       "      <td>0.1</td>\n",
       "      <td>1rv1_1</td>\n",
       "      <td>0.102954</td>\n",
       "    </tr>\n",
       "    <tr>\n",
       "      <th>1</th>\n",
       "      <td>8.47</td>\n",
       "      <td>1rv1_10</td>\n",
       "      <td>2.118930</td>\n",
       "    </tr>\n",
       "    <tr>\n",
       "      <th>2</th>\n",
       "      <td>7.16</td>\n",
       "      <td>1rv1_2</td>\n",
       "      <td>1.138494</td>\n",
       "    </tr>\n",
       "    <tr>\n",
       "      <th>3</th>\n",
       "      <td>7.62</td>\n",
       "      <td>1rv1_3</td>\n",
       "      <td>0.336687</td>\n",
       "    </tr>\n",
       "    <tr>\n",
       "      <th>4</th>\n",
       "      <td>8.64</td>\n",
       "      <td>1rv1_4</td>\n",
       "      <td>1.803915</td>\n",
       "    </tr>\n",
       "  </tbody>\n",
       "</table>\n",
       "</div>"
      ],
      "text/plain": [
       "   rmsd Representative  predictions\n",
       "0   0.1         1rv1_1     0.102954\n",
       "1  8.47        1rv1_10     2.118930\n",
       "2  7.16         1rv1_2     1.138494\n",
       "3  7.62         1rv1_3     0.336687\n",
       "4  8.64         1rv1_4     1.803915"
      ]
     },
     "execution_count": 404,
     "metadata": {},
     "output_type": "execute_result"
    }
   ],
   "source": [
    "merged_rmsd_predictions.head()"
   ]
  },
  {
   "cell_type": "code",
   "execution_count": 511,
   "metadata": {},
   "outputs": [],
   "source": [
    "# The intersections of complex_list with affinity bank\n",
    "intersections = (aB.loc[aB[\"Representative\"].isin(complex_list)])\n",
    "intersections_set = list(intersections[\"Representative\"].unique())"
   ]
  },
  {
   "cell_type": "code",
   "execution_count": 516,
   "metadata": {},
   "outputs": [
    {
     "data": {
      "text/html": [
       "<div>\n",
       "<style scoped>\n",
       "    .dataframe tbody tr th:only-of-type {\n",
       "        vertical-align: middle;\n",
       "    }\n",
       "\n",
       "    .dataframe tbody tr th {\n",
       "        vertical-align: top;\n",
       "    }\n",
       "\n",
       "    .dataframe thead th {\n",
       "        text-align: right;\n",
       "    }\n",
       "</style>\n",
       "<table border=\"1\" class=\"dataframe\">\n",
       "  <thead>\n",
       "    <tr style=\"text-align: right;\">\n",
       "      <th></th>\n",
       "      <th>Representative</th>\n",
       "      <th>Metric</th>\n",
       "      <th>Num</th>\n",
       "      <th>Unit</th>\n",
       "    </tr>\n",
       "  </thead>\n",
       "  <tbody>\n",
       "    <tr>\n",
       "      <th>3057</th>\n",
       "      <td>4OAS</td>\n",
       "      <td>Kd</td>\n",
       "      <td>10.346787</td>\n",
       "      <td>nM</td>\n",
       "    </tr>\n",
       "    <tr>\n",
       "      <th>3058</th>\n",
       "      <td>3JZK</td>\n",
       "      <td>ic50</td>\n",
       "      <td>5.910095</td>\n",
       "      <td>uM</td>\n",
       "    </tr>\n",
       "    <tr>\n",
       "      <th>3059</th>\n",
       "      <td>4JV7</td>\n",
       "      <td>ic50</td>\n",
       "      <td>6.000000</td>\n",
       "      <td>uM</td>\n",
       "    </tr>\n",
       "    <tr>\n",
       "      <th>3061</th>\n",
       "      <td>5LN2</td>\n",
       "      <td>ic50</td>\n",
       "      <td>9.886057</td>\n",
       "      <td>nM</td>\n",
       "    </tr>\n",
       "    <tr>\n",
       "      <th>3063</th>\n",
       "      <td>4ZYF</td>\n",
       "      <td>Ki</td>\n",
       "      <td>8.886057</td>\n",
       "      <td>nM</td>\n",
       "    </tr>\n",
       "  </tbody>\n",
       "</table>\n",
       "</div>"
      ],
      "text/plain": [
       "     Representative Metric        Num Unit\n",
       "3057           4OAS     Kd  10.346787   nM\n",
       "3058           3JZK   ic50   5.910095   uM\n",
       "3059           4JV7   ic50   6.000000   uM\n",
       "3061           5LN2   ic50   9.886057   nM\n",
       "3063           4ZYF     Ki   8.886057   nM"
      ]
     },
     "execution_count": 516,
     "metadata": {},
     "output_type": "execute_result"
    }
   ],
   "source": [
    " METRIC_CONVERT = {\n",
    "        'mM':10**-3,\n",
    "        'uM':10**-6,\n",
    "        'pM':10**-12,\n",
    "        'nM':10**-9,\n",
    "        'fM':10**-15,\n",
    "        'M':10**0\n",
    "    }\n",
    "\n",
    "def convert_to_log_10(row):\n",
    "    row[\"Num\"] *= METRIC_CONVERT[row[\"Unit\"]]\n",
    "    row[\"Num\"] = (-1) * np.log10(row[\"Num\"])\n",
    "    return row\n",
    "    \n",
    "aB_intersected = aB.loc[aB[\"Representative\"].isin(complex_list)]\n",
    "aB_intersected = aB_intersected.apply(convert_to_log_10, axis = 1)\n",
    "aB_intersected.head()"
   ]
  },
  {
   "cell_type": "code",
   "execution_count": 517,
   "metadata": {},
   "outputs": [],
   "source": [
    "# predictions of diferent poses versus one real affinity from affinity bank\n",
    "p_v_r = merged_rmsd_predictions.copy()\n",
    "# Add the column pose for easing the merging process\n",
    "p_v_r[\"pose\"] = p_v_r[\"Representative\"]"
   ]
  },
  {
   "cell_type": "code",
   "execution_count": 518,
   "metadata": {},
   "outputs": [],
   "source": [
    "# changing pose to numeric\n",
    "def attach_pose_index(row):\n",
    "    try:\n",
    "        pose_index = int(row[\"pose\"][-2:])\n",
    "    except:\n",
    "        pose_index = int(row[\"pose\"][-1:])\n",
    "    row[\"pose\"] = pose_index\n",
    "    row[\"Representative\"] = row[\"Representative\"][:4].upper()\n",
    "    \n",
    "    return row\n",
    "\n",
    "# change from mol to -log10, counting the fact that \n",
    "# predictions are given in micromol\n",
    "def convert_to_log_10(row):\n",
    "    row[\"predictions\"] /= 10**6\n",
    "    row[\"predictions\"] = (-1)*np.log10(row[\"predictions\"])\n",
    "    return row\n",
    "\n",
    "mappings = [attach_pose_index,convert_to_log_10]\n",
    "    "
   ]
  },
  {
   "cell_type": "code",
   "execution_count": 519,
   "metadata": {},
   "outputs": [],
   "source": [
    "for mapping in mappings:\n",
    "    p_v_r = p_v_r.apply(mapping, axis = 1)"
   ]
  },
  {
   "cell_type": "code",
   "execution_count": 520,
   "metadata": {},
   "outputs": [
    {
     "data": {
      "text/html": [
       "<div>\n",
       "<style scoped>\n",
       "    .dataframe tbody tr th:only-of-type {\n",
       "        vertical-align: middle;\n",
       "    }\n",
       "\n",
       "    .dataframe tbody tr th {\n",
       "        vertical-align: top;\n",
       "    }\n",
       "\n",
       "    .dataframe thead th {\n",
       "        text-align: right;\n",
       "    }\n",
       "</style>\n",
       "<table border=\"1\" class=\"dataframe\">\n",
       "  <thead>\n",
       "    <tr style=\"text-align: right;\">\n",
       "      <th></th>\n",
       "      <th>rmsd</th>\n",
       "      <th>Representative</th>\n",
       "      <th>predictions</th>\n",
       "      <th>pose</th>\n",
       "    </tr>\n",
       "  </thead>\n",
       "  <tbody>\n",
       "    <tr>\n",
       "      <th>0</th>\n",
       "      <td>0.1</td>\n",
       "      <td>1RV1</td>\n",
       "      <td>6.987357</td>\n",
       "      <td>1</td>\n",
       "    </tr>\n",
       "    <tr>\n",
       "      <th>1</th>\n",
       "      <td>8.47</td>\n",
       "      <td>1RV1</td>\n",
       "      <td>5.673883</td>\n",
       "      <td>10</td>\n",
       "    </tr>\n",
       "    <tr>\n",
       "      <th>2</th>\n",
       "      <td>7.16</td>\n",
       "      <td>1RV1</td>\n",
       "      <td>5.943669</td>\n",
       "      <td>2</td>\n",
       "    </tr>\n",
       "    <tr>\n",
       "      <th>3</th>\n",
       "      <td>7.62</td>\n",
       "      <td>1RV1</td>\n",
       "      <td>6.472773</td>\n",
       "      <td>3</td>\n",
       "    </tr>\n",
       "    <tr>\n",
       "      <th>4</th>\n",
       "      <td>8.64</td>\n",
       "      <td>1RV1</td>\n",
       "      <td>5.743784</td>\n",
       "      <td>4</td>\n",
       "    </tr>\n",
       "  </tbody>\n",
       "</table>\n",
       "</div>"
      ],
      "text/plain": [
       "   rmsd Representative  predictions  pose\n",
       "0   0.1           1RV1     6.987357     1\n",
       "1  8.47           1RV1     5.673883    10\n",
       "2  7.16           1RV1     5.943669     2\n",
       "3  7.62           1RV1     6.472773     3\n",
       "4  8.64           1RV1     5.743784     4"
      ]
     },
     "execution_count": 520,
     "metadata": {},
     "output_type": "execute_result"
    }
   ],
   "source": [
    "p_v_r.head()"
   ]
  },
  {
   "cell_type": "code",
   "execution_count": 521,
   "metadata": {},
   "outputs": [],
   "source": [
    "if \"rmsd\" in p_v_r.columns:\n",
    "    p_v_r.drop([\"rmsd\"], axis = 1, inplace = True)"
   ]
  },
  {
   "cell_type": "code",
   "execution_count": 522,
   "metadata": {},
   "outputs": [
    {
     "data": {
      "text/plain": [
       "(240, 3)"
      ]
     },
     "execution_count": 522,
     "metadata": {},
     "output_type": "execute_result"
    }
   ],
   "source": [
    "# Since not all complexes have affinities from the affinity bank\n",
    "p_v_r = p_v_r.loc[p_v_r[\"Representative\"].isin(intersections_set)]\n",
    "p_v_r.shape"
   ]
  },
  {
   "cell_type": "code",
   "execution_count": 523,
   "metadata": {},
   "outputs": [],
   "source": [
    "merged_p_v_r = pd.merge(p_v_r, aB_intersected, how = \"outer\", on = \"Representative\")"
   ]
  },
  {
   "cell_type": "code",
   "execution_count": 524,
   "metadata": {},
   "outputs": [
    {
     "data": {
      "text/plain": [
       "(240, 6)"
      ]
     },
     "execution_count": 524,
     "metadata": {},
     "output_type": "execute_result"
    }
   ],
   "source": [
    "merged_p_v_r.shape"
   ]
  },
  {
   "cell_type": "code",
   "execution_count": 528,
   "metadata": {},
   "outputs": [
    {
     "data": {
      "text/plain": [
       "array(['1RV1', '3JZK', '3LBL', '3TU1', '3W69', '4DIJ', '4ERF', '4HBM',\n",
       "       '4JV7', '4JV9', '4MDN', '4MDQ', '4OAS', '4OCC', '4ODE', '4ODF',\n",
       "       '4OGN', '4OGT', '4OQ3', '4QOC', '4WT2', '4ZGK', '4ZYF', '5LN2'],\n",
       "      dtype=object)"
      ]
     },
     "execution_count": 528,
     "metadata": {},
     "output_type": "execute_result"
    }
   ],
   "source": [
    "merged_p_v_r[\"Representative\"].unique()"
   ]
  },
  {
   "cell_type": "code",
   "execution_count": 526,
   "metadata": {},
   "outputs": [],
   "source": [
    "# splitted by each complex, so each key contains small dataframe\n",
    "splitted_by_repr = make_dock_split(merged_p_v_r, split_by = \"Representative\", compare = \"predictions\", relative = \"Num\", useless_columns = [\"Unit\"])"
   ]
  },
  {
   "cell_type": "code",
   "execution_count": 538,
   "metadata": {},
   "outputs": [
    {
     "data": {
      "text/plain": [
       "<seaborn.axisgrid.FacetGrid at 0x7fe98287b5f8>"
      ]
     },
     "execution_count": 538,
     "metadata": {},
     "output_type": "execute_result"
    },
    {
     "data": {
      "image/png": "[encoded data removed]",
      "text/plain": [
       "<Figure size 360x360 with 1 Axes>"
      ]
     },
     "metadata": {
      "needs_background": "light"
     },
     "output_type": "display_data"
    }
   ],
   "source": [
    "rv = splitted_by_repr[\"4ODE\"]\n",
    "sns.lmplot(x = \"predictions\", y = \"pose\", data = rv)"
   ]
  },
  {
   "cell_type": "code",
   "execution_count": null,
   "metadata": {},
   "outputs": [],
   "source": []
  }
 ],
 "metadata": {
  "kernelspec": {
   "display_name": "Python 3",
   "language": "python",
   "name": "python3"
  },
  "language_info": {
   "codemirror_mode": {
    "name": "ipython",
    "version": 3
   },
   "file_extension": ".py",
   "mimetype": "text/x-python",
   "name": "python",
   "nbconvert_exporter": "python",
   "pygments_lexer": "ipython3",
   "version": "3.7.3"
  }
 },
 "nbformat": 4,
 "nbformat_minor": 2
}

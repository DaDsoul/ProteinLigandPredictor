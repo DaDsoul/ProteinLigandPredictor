{
 "cells": [
  {
   "cell_type": "code",
   "execution_count": 1,
   "metadata": {},
   "outputs": [],
   "source": [
    "import numpy as np\n",
    "from math import cos, sin, pi\n",
    "import math\n",
    "\n",
    "def get_rotation(x_angle, y_angle, z_angle):\n",
    "        \n",
    "    rot_x = np.array([[1, 0, 0],\n",
    "                    [0, cos(x_angle), -sin(x_angle)],\n",
    "                      [0, sin(x_angle),cos(x_angle)]])\n",
    "    rot_y = np.array([[cos(y_angle), 0, sin(y_angle)],\n",
    "                      [0, 1, 0],\n",
    "                      [-sin(y_angle), 0, cos(y_angle)]])\n",
    "    rot_z = np.array([[cos(z_angle),-sin(z_angle),0],\n",
    "                      [sin(z_angle),cos(z_angle),0],\n",
    "                      [0,0,1]])\n",
    "        \n",
    "    mul_x_y = np.dot(rot_x, rot_y)\n",
    "    result = np.dot(mul_x_y, rot_z)\n",
    "        \n",
    "    return result"
   ]
  },
  {
   "cell_type": "code",
   "execution_count": 11,
   "metadata": {},
   "outputs": [],
   "source": [
    "some_dot = np.zeros((3,3))"
   ]
  },
  {
   "cell_type": "code",
   "execution_count": 12,
   "metadata": {},
   "outputs": [],
   "source": [
    "some_dot[0][0] = 1"
   ]
  },
  {
   "cell_type": "code",
   "execution_count": 13,
   "metadata": {},
   "outputs": [
    {
     "data": {
      "text/plain": [
       "array([[6.123234e-17, 0.000000e+00, 1.000000e+00],\n",
       "       [0.000000e+00, 0.000000e+00, 0.000000e+00],\n",
       "       [0.000000e+00, 0.000000e+00, 0.000000e+00]])"
      ]
     },
     "execution_count": 13,
     "metadata": {},
     "output_type": "execute_result"
    }
   ],
   "source": [
    "np.dot(some_dot, get_rotation(0,pi/2,0))"
   ]
  },
  {
   "cell_type": "code",
   "execution_count": 14,
   "metadata": {},
   "outputs": [],
   "source": [
    "from itertools import combinations\n",
    "from itertools import permutations"
   ]
  },
  {
   "cell_type": "code",
   "execution_count": 15,
   "metadata": {},
   "outputs": [],
   "source": [
    "angle_set = [[1,2,3],[1,1,1]]"
   ]
  },
  {
   "cell_type": "code",
   "execution_count": 16,
   "metadata": {},
   "outputs": [
    {
     "name": "stdout",
     "output_type": "stream",
     "text": [
      "1 1 1\n",
      "1 1 1\n",
      "1 1 1\n",
      "1 1 1\n",
      "1 1 1\n",
      "1 1 1\n"
     ]
    }
   ],
   "source": [
    "for (x,y,z) in permutations([1,1,1]):\n",
    "    print(x,y,z)"
   ]
  },
  {
   "cell_type": "code",
   "execution_count": 17,
   "metadata": {},
   "outputs": [],
   "source": [
    "some_axis = np.zeros([1,3])"
   ]
  },
  {
   "cell_type": "code",
   "execution_count": 18,
   "metadata": {},
   "outputs": [
    {
     "data": {
      "text/plain": [
       "array([[0., 0., 0.]])"
      ]
     },
     "execution_count": 18,
     "metadata": {},
     "output_type": "execute_result"
    }
   ],
   "source": [
    "some_axis"
   ]
  },
  {
   "cell_type": "code",
   "execution_count": 19,
   "metadata": {},
   "outputs": [
    {
     "data": {
      "text/plain": [
       "array([[2., 2., 2.]])"
      ]
     },
     "execution_count": 19,
     "metadata": {},
     "output_type": "execute_result"
    }
   ],
   "source": [
    "some_axis + 2"
   ]
  },
  {
   "cell_type": "code",
   "execution_count": 20,
   "metadata": {},
   "outputs": [],
   "source": [
    "some_axis = np.ones([3,1])"
   ]
  },
  {
   "cell_type": "code",
   "execution_count": 21,
   "metadata": {},
   "outputs": [
    {
     "data": {
      "text/plain": [
       "array([[1.],\n",
       "       [1.],\n",
       "       [1.]])"
      ]
     },
     "execution_count": 21,
     "metadata": {},
     "output_type": "execute_result"
    }
   ],
   "source": [
    "some_axis"
   ]
  },
  {
   "cell_type": "code",
   "execution_count": 22,
   "metadata": {},
   "outputs": [
    {
     "data": {
      "text/plain": [
       "array([[1.57079633],\n",
       "       [1.57079633],\n",
       "       [1.57079633]])"
      ]
     },
     "execution_count": 22,
     "metadata": {},
     "output_type": "execute_result"
    }
   ],
   "source": [
    "some_axis * pi/2"
   ]
  },
  {
   "cell_type": "code",
   "execution_count": 23,
   "metadata": {},
   "outputs": [
    {
     "data": {
      "text/plain": [
       "3.141592653589793"
      ]
     },
     "execution_count": 23,
     "metadata": {},
     "output_type": "execute_result"
    }
   ],
   "source": [
    "pi"
   ]
  },
  {
   "cell_type": "code",
   "execution_count": null,
   "metadata": {},
   "outputs": [],
   "source": []
  },
  {
   "cell_type": "code",
   "execution_count": null,
   "metadata": {},
   "outputs": [],
   "source": []
  },
  {
   "cell_type": "code",
   "execution_count": 24,
   "metadata": {},
   "outputs": [],
   "source": [
    "def fill_rotations():\n",
    "        '''Predefine the rotation matrices\n",
    "        for data augmentation of the complexes\n",
    "        '''\n",
    "        \n",
    "        rotation_matrices = []\n",
    "        \n",
    "        # Add the rotations around the primal axices\n",
    "        # for n*pi/4 angles \n",
    "        for x in range(3):\n",
    "            for n in range(1, 8):\n",
    "                axis = np.zeros(3)\n",
    "                angle = n * (pi/4)\n",
    "                axis[x] = 1\n",
    "                rotation_matrices.append(get_rotation_matrix(axis, angle))\n",
    "                \n",
    "        # Add the rotations around the four space diagonals\n",
    "        # for n*pi/3 angles\n",
    "#         space_axices = np.array([[1,1,-1],[1,1,1],[1,-1,-1],[1,-1,1]])\n",
    "        \n",
    "#         for axis in space_axices:\n",
    "#             for n in range(1, 6):\n",
    "#                 angle = n*(pi/3)\n",
    "#                 rotation_matrices.append(get_rotation_matrix(axis, angle))\n",
    "                \n",
    "        return rotation_matrices"
   ]
  },
  {
   "cell_type": "code",
   "execution_count": 25,
   "metadata": {},
   "outputs": [],
   "source": [
    "def get_rotation_matrix(axis, angle):\n",
    "        '''Rotation matrix for any angle \n",
    "        around any axis\n",
    "        \n",
    "        angle should be in range from [-1, 1] \n",
    "        '''\n",
    "        \n",
    "        # normalize the units of the rotation axis\n",
    "        axis = axis / math.sqrt(np.dot(axis, axis))\n",
    "        \n",
    "        u1, u2, u3 = axis\n",
    "        \n",
    "        c = cos(angle)\n",
    "        s = sin(angle)\n",
    "        v = 1 - c\n",
    "        rotation_matrix = np.array([[u1*u1*v + c,u1*u2*v - u3*s, u1*u3*v + u2*s],\n",
    "                                    [u1*u2*v + u3*s, u2*u2*v + c, u2*u3*v - u1*s],\n",
    "                                    [u1*u3*v - u2*s, u2*u3*v + u1*s, u3*u3*v + c]])\n",
    "        return rotation_matrix"
   ]
  },
  {
   "cell_type": "code",
   "execution_count": 26,
   "metadata": {},
   "outputs": [],
   "source": [
    "some_point = np.array([0,1,0])"
   ]
  },
  {
   "cell_type": "code",
   "execution_count": 27,
   "metadata": {},
   "outputs": [],
   "source": [
    "matrix = get_rotation_matrix(np.array([1,0,0]), 3*pi/2)\n",
    "result = np.dot(matrix, some_point)"
   ]
  },
  {
   "cell_type": "code",
   "execution_count": 28,
   "metadata": {},
   "outputs": [
    {
     "data": {
      "text/plain": [
       "array([ 0.0000000e+00, -1.8369702e-16, -1.0000000e+00])"
      ]
     },
     "execution_count": 28,
     "metadata": {},
     "output_type": "execute_result"
    }
   ],
   "source": [
    "result"
   ]
  },
  {
   "cell_type": "code",
   "execution_count": null,
   "metadata": {},
   "outputs": [],
   "source": []
  },
  {
   "cell_type": "code",
   "execution_count": null,
   "metadata": {},
   "outputs": [],
   "source": []
  },
  {
   "cell_type": "code",
   "execution_count": null,
   "metadata": {},
   "outputs": [],
   "source": []
  },
  {
   "cell_type": "code",
   "execution_count": null,
   "metadata": {},
   "outputs": [],
   "source": []
  },
  {
   "cell_type": "code",
   "execution_count": 31,
   "metadata": {},
   "outputs": [],
   "source": [
    "import pandas as pd\n",
    "import seaborn as sns\n",
    "import matplotlib.pyplot as plt\n",
    "from mpl_toolkits import mplot3d\n",
    "import os \n",
    "import sys \n",
    "sys.path.append(\"~/Downloads/AkeFiles/Files/project/Sipga_project/chimera/\")\n"
   ]
  },
  {
   "cell_type": "code",
   "execution_count": 32,
   "metadata": {},
   "outputs": [
    {
     "ename": "FileNotFoundError",
     "evalue": "[Errno 2] No such file or directory: '/home/mussaa/Downloads/AkeFiles/Files/project_ver2/new_version/ProteinLigandPredictor/structured/tests/preprocessed_data'",
     "output_type": "error",
     "traceback": [
      "\u001b[0;31m---------------------------------------------------------------------------\u001b[0m",
      "\u001b[0;31mFileNotFoundError\u001b[0m                         Traceback (most recent call last)",
      "\u001b[0;32m<ipython-input-32-15922eed5203>\u001b[0m in \u001b[0;36m<module>\u001b[0;34m\u001b[0m\n\u001b[1;32m      1\u001b[0m \u001b[0mdata_path\u001b[0m \u001b[0;34m=\u001b[0m \u001b[0mos\u001b[0m\u001b[0;34m.\u001b[0m\u001b[0mpath\u001b[0m\u001b[0;34m.\u001b[0m\u001b[0mabspath\u001b[0m\u001b[0;34m(\u001b[0m\u001b[0;34m'preprocessed_data'\u001b[0m\u001b[0;34m)\u001b[0m\u001b[0;34m\u001b[0m\u001b[0;34m\u001b[0m\u001b[0m\n\u001b[0;32m----> 2\u001b[0;31m \u001b[0mprint\u001b[0m\u001b[0;34m(\u001b[0m\u001b[0mos\u001b[0m\u001b[0;34m.\u001b[0m\u001b[0mlistdir\u001b[0m\u001b[0;34m(\u001b[0m\u001b[0mdata_path\u001b[0m\u001b[0;34m)\u001b[0m\u001b[0;34m)\u001b[0m\u001b[0;34m\u001b[0m\u001b[0;34m\u001b[0m\u001b[0m\n\u001b[0m\u001b[1;32m      3\u001b[0m \u001b[0mval_path\u001b[0m \u001b[0;34m=\u001b[0m \u001b[0mdata_path\u001b[0m \u001b[0;34m+\u001b[0m \u001b[0;34m'/'\u001b[0m \u001b[0;34m+\u001b[0m \u001b[0;34m\"core_set.hdf\"\u001b[0m\u001b[0;34m\u001b[0m\u001b[0;34m\u001b[0m\u001b[0m\n",
      "\u001b[0;31mFileNotFoundError\u001b[0m: [Errno 2] No such file or directory: '/home/mussaa/Downloads/AkeFiles/Files/project_ver2/new_version/ProteinLigandPredictor/structured/tests/preprocessed_data'"
     ]
    }
   ],
   "source": [
    "data_path = os.path.abspath('preprocessed_data')\n",
    "print(os.listdir(data_path))\n",
    "val_path = data_path + '/' + \"core_set.hdf\"\n"
   ]
  },
  {
   "cell_type": "code",
   "execution_count": 26,
   "metadata": {},
   "outputs": [],
   "source": [
    "'''\n",
    "    Extracting some data for visualization part\n",
    "'''\n",
    "pass"
   ]
  },
  {
   "cell_type": "code",
   "execution_count": 21,
   "metadata": {},
   "outputs": [],
   "source": [
    "def get_features_names():\n",
    "    atom_classes = Constants.atom_classes.value\n",
    "    '''\n",
    "        the order of features in the data set\n",
    "    '''\n",
    "    features = []\n",
    "        \n",
    "    '''\n",
    "        added the atom names \n",
    "    '''\n",
    "    for index, (atom_num, name) in enumerate(atom_classes):\n",
    "        features.append(name)\n",
    "\n",
    "    features += Constants.NAMED_PROPS.value\n",
    "    features.append('molcode')\n",
    "    features += Constants.smarts_labels.value\n",
    "\n",
    "    return features"
   ]
  },
  {
   "cell_type": "code",
   "execution_count": 22,
   "metadata": {},
   "outputs": [],
   "source": [
    "from enum import Enum\n",
    "class Constants(Enum):\n",
    "    NAMED_PROPS = ['hyb', 'heavyvalence', 'heterovalence',\n",
    "                                'partialcharge']\n",
    "    atom_classes = [\n",
    "                (5, 'B'),\n",
    "                (6, 'C'),\n",
    "                (7, 'N'),\n",
    "                (8, 'O'),\n",
    "                (15, 'P'),\n",
    "                (16, 'S'),\n",
    "                (34, 'Se'),\n",
    "                ([9, 17, 35, 53], 'halogen'),\n",
    "                (([3, 4, 11, 12, 13] + list(range(19, 32))\n",
    "                      + list(range(37, 51)) + list(range(55, 84))\n",
    "                      + list(range(87, 104))), 'metal')\n",
    "            ]\n",
    "\n",
    "    SMARTS = [\n",
    "                '[#6+0!$(*~[#7,#8,F]),SH0+0v2,s+0,S^3,Cl+0,Br+0,I+0]',\n",
    "                '[a]',\n",
    "                '[!$([#1,#6,F,Cl,Br,I,o,s,nX3,#7v5,#15v5,#16v4,#16v6,*+1,*+2,*+3])]',\n",
    "                '[!$([#6,H0,-,-2,-3]),$([!H0;#7,#8,#9])]',\n",
    "                '[r]'\n",
    "            ]\n",
    "    smarts_labels = ['hydrophobic', 'aromatic', 'acceptor', 'donor',\n",
    "                             'ring']\n",
    "    \n",
    "    HDF_PATH =  os.path.join(os.pardir, \"chimera/preprocessed_data/\")"
   ]
  },
  {
   "cell_type": "code",
   "execution_count": 23,
   "metadata": {},
   "outputs": [],
   "source": [
    "features_names = get_features_names()"
   ]
  },
  {
   "cell_type": "code",
   "execution_count": 24,
   "metadata": {},
   "outputs": [
    {
     "ename": "OSError",
     "evalue": "Unable to open file (unable to open file: name = '~/Downloads/AkeFiles/Files/project/Sipga_project/chimera/preprocessed_data/core_set.hdf', errno = 2, error message = 'No such file or directory', flags = 0, o_flags = 0)",
     "output_type": "error",
     "traceback": [
      "\u001b[0;31m---------------------------------------------------------------------------\u001b[0m",
      "\u001b[0;31mOSError\u001b[0m                                   Traceback (most recent call last)",
      "\u001b[0;32m<ipython-input-24-5ee46209e12a>\u001b[0m in \u001b[0;36m<module>\u001b[0;34m\u001b[0m\n\u001b[1;32m     10\u001b[0m \u001b[0;34m\u001b[0m\u001b[0m\n\u001b[1;32m     11\u001b[0m \u001b[0;34m\u001b[0m\u001b[0m\n\u001b[0;32m---> 12\u001b[0;31m \u001b[0;32mwith\u001b[0m \u001b[0mh5py\u001b[0m\u001b[0;34m.\u001b[0m\u001b[0mFile\u001b[0m\u001b[0;34m(\u001b[0m\u001b[0mval_path\u001b[0m\u001b[0;34m,\u001b[0m \u001b[0;34m'r'\u001b[0m\u001b[0;34m)\u001b[0m \u001b[0;32mas\u001b[0m \u001b[0mf\u001b[0m\u001b[0;34m:\u001b[0m\u001b[0;34m\u001b[0m\u001b[0;34m\u001b[0m\u001b[0m\n\u001b[0m\u001b[1;32m     13\u001b[0m     \u001b[0;32mfor\u001b[0m \u001b[0mpdb_id\u001b[0m \u001b[0;32min\u001b[0m \u001b[0mf\u001b[0m\u001b[0;34m:\u001b[0m\u001b[0;34m\u001b[0m\u001b[0;34m\u001b[0m\u001b[0m\n\u001b[1;32m     14\u001b[0m         \u001b[0mindex\u001b[0m \u001b[0;34m+=\u001b[0m \u001b[0;36m1\u001b[0m\u001b[0;34m\u001b[0m\u001b[0;34m\u001b[0m\u001b[0m\n",
      "\u001b[0;32m~/anaconda3/lib/python3.7/site-packages/h5py/_hl/files.py\u001b[0m in \u001b[0;36m__init__\u001b[0;34m(self, name, mode, driver, libver, userblock_size, swmr, rdcc_nslots, rdcc_nbytes, rdcc_w0, track_order, **kwds)\u001b[0m\n\u001b[1;32m    392\u001b[0m                 fid = make_fid(name, mode, userblock_size,\n\u001b[1;32m    393\u001b[0m                                \u001b[0mfapl\u001b[0m\u001b[0;34m,\u001b[0m \u001b[0mfcpl\u001b[0m\u001b[0;34m=\u001b[0m\u001b[0mmake_fcpl\u001b[0m\u001b[0;34m(\u001b[0m\u001b[0mtrack_order\u001b[0m\u001b[0;34m=\u001b[0m\u001b[0mtrack_order\u001b[0m\u001b[0;34m)\u001b[0m\u001b[0;34m,\u001b[0m\u001b[0;34m\u001b[0m\u001b[0;34m\u001b[0m\u001b[0m\n\u001b[0;32m--> 394\u001b[0;31m                                swmr=swmr)\n\u001b[0m\u001b[1;32m    395\u001b[0m \u001b[0;34m\u001b[0m\u001b[0m\n\u001b[1;32m    396\u001b[0m             \u001b[0;32mif\u001b[0m \u001b[0mswmr_support\u001b[0m\u001b[0;34m:\u001b[0m\u001b[0;34m\u001b[0m\u001b[0;34m\u001b[0m\u001b[0m\n",
      "\u001b[0;32m~/anaconda3/lib/python3.7/site-packages/h5py/_hl/files.py\u001b[0m in \u001b[0;36mmake_fid\u001b[0;34m(name, mode, userblock_size, fapl, fcpl, swmr)\u001b[0m\n\u001b[1;32m    168\u001b[0m         \u001b[0;32mif\u001b[0m \u001b[0mswmr\u001b[0m \u001b[0;32mand\u001b[0m \u001b[0mswmr_support\u001b[0m\u001b[0;34m:\u001b[0m\u001b[0;34m\u001b[0m\u001b[0;34m\u001b[0m\u001b[0m\n\u001b[1;32m    169\u001b[0m             \u001b[0mflags\u001b[0m \u001b[0;34m|=\u001b[0m \u001b[0mh5f\u001b[0m\u001b[0;34m.\u001b[0m\u001b[0mACC_SWMR_READ\u001b[0m\u001b[0;34m\u001b[0m\u001b[0;34m\u001b[0m\u001b[0m\n\u001b[0;32m--> 170\u001b[0;31m         \u001b[0mfid\u001b[0m \u001b[0;34m=\u001b[0m \u001b[0mh5f\u001b[0m\u001b[0;34m.\u001b[0m\u001b[0mopen\u001b[0m\u001b[0;34m(\u001b[0m\u001b[0mname\u001b[0m\u001b[0;34m,\u001b[0m \u001b[0mflags\u001b[0m\u001b[0;34m,\u001b[0m \u001b[0mfapl\u001b[0m\u001b[0;34m=\u001b[0m\u001b[0mfapl\u001b[0m\u001b[0;34m)\u001b[0m\u001b[0;34m\u001b[0m\u001b[0;34m\u001b[0m\u001b[0m\n\u001b[0m\u001b[1;32m    171\u001b[0m     \u001b[0;32melif\u001b[0m \u001b[0mmode\u001b[0m \u001b[0;34m==\u001b[0m \u001b[0;34m'r+'\u001b[0m\u001b[0;34m:\u001b[0m\u001b[0;34m\u001b[0m\u001b[0;34m\u001b[0m\u001b[0m\n\u001b[1;32m    172\u001b[0m         \u001b[0mfid\u001b[0m \u001b[0;34m=\u001b[0m \u001b[0mh5f\u001b[0m\u001b[0;34m.\u001b[0m\u001b[0mopen\u001b[0m\u001b[0;34m(\u001b[0m\u001b[0mname\u001b[0m\u001b[0;34m,\u001b[0m \u001b[0mh5f\u001b[0m\u001b[0;34m.\u001b[0m\u001b[0mACC_RDWR\u001b[0m\u001b[0;34m,\u001b[0m \u001b[0mfapl\u001b[0m\u001b[0;34m=\u001b[0m\u001b[0mfapl\u001b[0m\u001b[0;34m)\u001b[0m\u001b[0;34m\u001b[0m\u001b[0;34m\u001b[0m\u001b[0m\n",
      "\u001b[0;32mh5py/_objects.pyx\u001b[0m in \u001b[0;36mh5py._objects.with_phil.wrapper\u001b[0;34m()\u001b[0m\n",
      "\u001b[0;32mh5py/_objects.pyx\u001b[0m in \u001b[0;36mh5py._objects.with_phil.wrapper\u001b[0;34m()\u001b[0m\n",
      "\u001b[0;32mh5py/h5f.pyx\u001b[0m in \u001b[0;36mh5py.h5f.open\u001b[0;34m()\u001b[0m\n",
      "\u001b[0;31mOSError\u001b[0m: Unable to open file (unable to open file: name = '~/Downloads/AkeFiles/Files/project/Sipga_project/chimera/preprocessed_data/core_set.hdf', errno = 2, error message = 'No such file or directory', flags = 0, o_flags = 0)"
     ]
    }
   ],
   "source": [
    "import h5py\n",
    "import numpy as np\n",
    "\n",
    "affinity = []\n",
    "coords = []\n",
    "features = []\n",
    "ids = []\n",
    "\n",
    "index = 0\n",
    "\n",
    "\n",
    "with h5py.File(val_path, 'r') as f:\n",
    "    for pdb_id in f:\n",
    "        index += 1\n",
    "        ids.append(pdb_id)\n",
    "        data_set = f[pdb_id]\n",
    "        coords.append(data_set[:, :3])\n",
    "        if index == 1:\n",
    "            print(data_set[:,:3].shape)\n",
    "        features.append(data_set[:, 3:])\n",
    "        affinity.append(data_set.attrs['affinity'])\n",
    "\n",
    "\n",
    "affinity = np.reshape(affinity, (-1, 1))\n"
   ]
  },
  {
   "cell_type": "code",
   "execution_count": 44,
   "metadata": {},
   "outputs": [
    {
     "data": {
      "text/plain": [
       "2279"
      ]
     },
     "execution_count": 44,
     "metadata": {},
     "output_type": "execute_result"
    }
   ],
   "source": [
    "import matplotlib.pyplot as plt\n",
    "\n",
    "columns = {name: i for i,name in enumerate(features_names)}\n",
    "coords = np.array(coords)\n",
    "\n",
    "\n",
    "def plot_boxes(complex_idx, rot_mat = None, box_indices = None,rot = None):\n",
    "    \n",
    "    fig = plt.figure(figsize=(8, 8))\n",
    "    ft = features[complex_idx]\n",
    "    ax = fig.add_subplot(111, projection='3d')\n",
    "    prot_coord = coords[complex_idx][ft[:, columns['molcode']] == -1].T if rot_mat is None else np.dot(coords[complex_idx][ft[:, columns['molcode']] == -1], rot_mat).T\n",
    "    lig_coord = coords[complex_idx][ft[:, columns['molcode']] == 1].T if rot_mat is None else np.dot(coords[complex_idx][ft[:, columns['molcode']] == 1], rot_mat).T\n",
    "    mx,my,mz = prot_coord\n",
    "    mz = np.append(mz, 20)\n",
    "    mx = np.append(mx, 20)\n",
    "    my = np.append(my, 20)\n",
    "    print(mz.shape)\n",
    "    print(mz.shape)\n",
    "    ax.scatter(mx,my, mz,label='protein', c = 'r', s = 5)\n",
    "    mx,my,mz = lig_coord\n",
    "    ax.scatter(mx, my,  mz,label='ligand', c='b', s=20) \n",
    "    ax.set_xlabel('X')\n",
    "    ax.set_ylabel('Y')\n",
    "    ax.set_zlabel('Z')\n",
    "    \n",
    "    \n",
    "len(features)"
   ]
  },
  {
   "cell_type": "code",
   "execution_count": 48,
   "metadata": {},
   "outputs": [
    {
     "name": "stdout",
     "output_type": "stream",
     "text": [
      "(579,)\n",
      "(579,)\n",
      "(579,)\n",
      "(579,)\n"
     ]
    },
    {
     "data": {
      "image/png": "[encoded data removed]",
      "text/plain": [
       "<Figure size 576x576 with 1 Axes>"
      ]
     },
     "metadata": {
      "needs_background": "light"
     },
     "output_type": "display_data"
    },
    {
     "data": {
      "image/png": "[encoded data removed]",
      "text/plain": [
       "<Figure size 576x576 with 1 Axes>"
      ]
     },
     "metadata": {
      "needs_background": "light"
     },
     "output_type": "display_data"
    }
   ],
   "source": [
    "rotation_matrices = fill_rotations()\n",
    "# rotation_matrices[0].shape\n",
    "\n",
    "plot_boxes(0)\n",
    "plot_boxes(0, get_rotation_matrix(np.array([1,1,1]), 0))"
   ]
  },
  {
   "cell_type": "code",
   "execution_count": 46,
   "metadata": {},
   "outputs": [
    {
     "data": {
      "text/plain": [
       "(578, 3)"
      ]
     },
     "execution_count": 46,
     "metadata": {},
     "output_type": "execute_result"
    }
   ],
   "source": [
    "coords[0][features[0][:, columns['molcode']] == -1].shape"
   ]
  },
  {
   "cell_type": "code",
   "execution_count": null,
   "metadata": {},
   "outputs": [],
   "source": []
  },
  {
   "cell_type": "code",
   "execution_count": 2,
   "metadata": {},
   "outputs": [],
   "source": [
    "import pandas as pd"
   ]
  },
  {
   "cell_type": "code",
   "execution_count": 3,
   "metadata": {},
   "outputs": [],
   "source": [
    "# path_csv = \"/home/mussaa/Downloads/AkeFiles/Files/project_ver2/new_version/ProteinLigandPredictor/structured/utils/processing/specific_protein/nr_bind.csv\"\n",
    "path_csv = \"/home/mussaa/Downloads/AkeFiles/Files/project_ver2/new_version/ProteinLigandPredictor/structured/utils/processing/specific_protein/every_bind(2).csv\"\n",
    "# path_csv = \"/home/mussaa/Downloads/AkeFiles/Files/project_ver2/new_version/ProteinLigandPredictor/structured/utils/processing/specific_protein/nr.csv\""
   ]
  },
  {
   "cell_type": "code",
   "execution_count": 4,
   "metadata": {},
   "outputs": [],
   "source": [
    "pd.set_option('max_rows', 15)\n",
    "data = pd.read_csv(path_csv, index_col = 0)"
   ]
  },
  {
   "cell_type": "code",
   "execution_count": 5,
   "metadata": {},
   "outputs": [
    {
     "data": {
      "text/html": [
       "<div>\n",
       "<style scoped>\n",
       "    .dataframe tbody tr th:only-of-type {\n",
       "        vertical-align: middle;\n",
       "    }\n",
       "\n",
       "    .dataframe tbody tr th {\n",
       "        vertical-align: top;\n",
       "    }\n",
       "\n",
       "    .dataframe thead th {\n",
       "        text-align: right;\n",
       "    }\n",
       "</style>\n",
       "<table border=\"1\" class=\"dataframe\">\n",
       "  <thead>\n",
       "    <tr style=\"text-align: right;\">\n",
       "      <th></th>\n",
       "      <th>Unnamed: 1</th>\n",
       "      <th>Unnamed: 2</th>\n",
       "      <th>Unnamed: 3</th>\n",
       "      <th>Unnamed: 4</th>\n",
       "      <th>Unnamed: 5</th>\n",
       "      <th>Unnamed: 6</th>\n",
       "      <th>Unnamed: 7</th>\n",
       "      <th>Unnamed: 8</th>\n",
       "      <th>Unnamed: 9</th>\n",
       "    </tr>\n",
       "    <tr>\n",
       "      <th>2.4.1.69</th>\n",
       "      <th></th>\n",
       "      <th></th>\n",
       "      <th></th>\n",
       "      <th></th>\n",
       "      <th></th>\n",
       "      <th></th>\n",
       "      <th></th>\n",
       "      <th></th>\n",
       "      <th></th>\n",
       "    </tr>\n",
       "  </thead>\n",
       "  <tbody>\n",
       "    <tr>\n",
       "      <th>3.4.11.7</th>\n",
       "      <td>NaN</td>\n",
       "      <td>NaN</td>\n",
       "      <td>NaN</td>\n",
       "      <td>NaN</td>\n",
       "      <td>NaN</td>\n",
       "      <td>NaN</td>\n",
       "      <td>NaN</td>\n",
       "      <td>NaN</td>\n",
       "      <td>NaN</td>\n",
       "    </tr>\n",
       "    <tr>\n",
       "      <th>3.1.1.4</th>\n",
       "      <td>NaN</td>\n",
       "      <td>NaN</td>\n",
       "      <td>NaN</td>\n",
       "      <td>NaN</td>\n",
       "      <td>NaN</td>\n",
       "      <td>NaN</td>\n",
       "      <td>NaN</td>\n",
       "      <td>NaN</td>\n",
       "      <td>NaN</td>\n",
       "    </tr>\n",
       "    <tr>\n",
       "      <th>NaN</th>\n",
       "      <td>Family. Representative Entry is</td>\n",
       "      <td>4YV5</td>\n",
       "      <td>NaN</td>\n",
       "      <td>NaN</td>\n",
       "      <td>NaN</td>\n",
       "      <td>NaN</td>\n",
       "      <td>NaN</td>\n",
       "      <td>NaN</td>\n",
       "      <td>NaN</td>\n",
       "    </tr>\n",
       "    <tr>\n",
       "      <th>NaN</th>\n",
       "      <td>NaN</td>\n",
       "      <td>NaN</td>\n",
       "      <td>SVR:B:207</td>\n",
       "      <td>valid</td>\n",
       "      <td>Kd</td>\n",
       "      <td>=</td>\n",
       "      <td>6.2</td>\n",
       "      <td>uM</td>\n",
       "      <td>Cc1ccc(cc1NC(=O)c2cccc(c2)NC(=O)Nc3cccc(c3)C(=...</td>\n",
       "    </tr>\n",
       "    <tr>\n",
       "      <th>NaN</th>\n",
       "      <td>NaN</td>\n",
       "      <td>NaN</td>\n",
       "      <td>SVR:A:205</td>\n",
       "      <td>valid</td>\n",
       "      <td>Kd</td>\n",
       "      <td>=</td>\n",
       "      <td>6.2</td>\n",
       "      <td>uM</td>\n",
       "      <td>Cc1ccc(cc1NC(=O)c2cccc(c2)NC(=O)Nc3cccc(c3)C(=...</td>\n",
       "    </tr>\n",
       "    <tr>\n",
       "      <th>NaN</th>\n",
       "      <td>NaN</td>\n",
       "      <td>NaN</td>\n",
       "      <td>SO4:B:202</td>\n",
       "      <td>invalid</td>\n",
       "      <td>NaN</td>\n",
       "      <td>NaN</td>\n",
       "      <td>NaN</td>\n",
       "      <td>NaN</td>\n",
       "      <td>[O-]S(=O)(=O)[O-]</td>\n",
       "    </tr>\n",
       "    <tr>\n",
       "      <th>NaN</th>\n",
       "      <td>NaN</td>\n",
       "      <td>NaN</td>\n",
       "      <td>SO4:B:201</td>\n",
       "      <td>invalid</td>\n",
       "      <td>NaN</td>\n",
       "      <td>NaN</td>\n",
       "      <td>NaN</td>\n",
       "      <td>NaN</td>\n",
       "      <td>[O-]S(=O)(=O)[O-]</td>\n",
       "    </tr>\n",
       "    <tr>\n",
       "      <th>NaN</th>\n",
       "      <td>NaN</td>\n",
       "      <td>NaN</td>\n",
       "      <td>SO4:A:201</td>\n",
       "      <td>invalid</td>\n",
       "      <td>NaN</td>\n",
       "      <td>NaN</td>\n",
       "      <td>NaN</td>\n",
       "      <td>NaN</td>\n",
       "      <td>[O-]S(=O)(=O)[O-]</td>\n",
       "    </tr>\n",
       "    <tr>\n",
       "      <th>NaN</th>\n",
       "      <td>NaN</td>\n",
       "      <td>NaN</td>\n",
       "      <td>SO4:B:205</td>\n",
       "      <td>invalid</td>\n",
       "      <td>NaN</td>\n",
       "      <td>NaN</td>\n",
       "      <td>NaN</td>\n",
       "      <td>NaN</td>\n",
       "      <td>[O-]S(=O)(=O)[O-]</td>\n",
       "    </tr>\n",
       "    <tr>\n",
       "      <th>NaN</th>\n",
       "      <td>NaN</td>\n",
       "      <td>NaN</td>\n",
       "      <td>SO4:A:204</td>\n",
       "      <td>invalid</td>\n",
       "      <td>NaN</td>\n",
       "      <td>NaN</td>\n",
       "      <td>NaN</td>\n",
       "      <td>NaN</td>\n",
       "      <td>[O-]S(=O)(=O)[O-]</td>\n",
       "    </tr>\n",
       "  </tbody>\n",
       "</table>\n",
       "</div>"
      ],
      "text/plain": [
       "                                Unnamed: 1 Unnamed: 2 Unnamed: 3 Unnamed: 4  \\\n",
       "2.4.1.69                                                                      \n",
       "3.4.11.7                               NaN        NaN        NaN        NaN   \n",
       "3.1.1.4                                NaN        NaN        NaN        NaN   \n",
       "NaN       Family. Representative Entry is        4YV5        NaN        NaN   \n",
       "NaN                                    NaN        NaN  SVR:B:207      valid   \n",
       "NaN                                    NaN        NaN  SVR:A:205      valid   \n",
       "NaN                                    NaN        NaN  SO4:B:202    invalid   \n",
       "NaN                                    NaN        NaN  SO4:B:201    invalid   \n",
       "NaN                                    NaN        NaN  SO4:A:201    invalid   \n",
       "NaN                                    NaN        NaN  SO4:B:205    invalid   \n",
       "NaN                                    NaN        NaN  SO4:A:204    invalid   \n",
       "\n",
       "         Unnamed: 5 Unnamed: 6  Unnamed: 7 Unnamed: 8  \\\n",
       "2.4.1.69                                                \n",
       "3.4.11.7        NaN        NaN         NaN        NaN   \n",
       "3.1.1.4         NaN        NaN         NaN        NaN   \n",
       "NaN             NaN        NaN         NaN        NaN   \n",
       "NaN              Kd          =         6.2         uM   \n",
       "NaN              Kd          =         6.2         uM   \n",
       "NaN             NaN        NaN         NaN        NaN   \n",
       "NaN             NaN        NaN         NaN        NaN   \n",
       "NaN             NaN        NaN         NaN        NaN   \n",
       "NaN             NaN        NaN         NaN        NaN   \n",
       "NaN             NaN        NaN         NaN        NaN   \n",
       "\n",
       "                                                 Unnamed: 9  \n",
       "2.4.1.69                                                     \n",
       "3.4.11.7                                                NaN  \n",
       "3.1.1.4                                                 NaN  \n",
       "NaN                                                     NaN  \n",
       "NaN       Cc1ccc(cc1NC(=O)c2cccc(c2)NC(=O)Nc3cccc(c3)C(=...  \n",
       "NaN       Cc1ccc(cc1NC(=O)c2cccc(c2)NC(=O)Nc3cccc(c3)C(=...  \n",
       "NaN                                       [O-]S(=O)(=O)[O-]  \n",
       "NaN                                       [O-]S(=O)(=O)[O-]  \n",
       "NaN                                       [O-]S(=O)(=O)[O-]  \n",
       "NaN                                       [O-]S(=O)(=O)[O-]  \n",
       "NaN                                       [O-]S(=O)(=O)[O-]  "
      ]
     },
     "execution_count": 5,
     "metadata": {},
     "output_type": "execute_result"
    }
   ],
   "source": [
    "data.head(10)\n",
    "# data.shape\n"
   ]
  },
  {
   "cell_type": "code",
   "execution_count": 6,
   "metadata": {},
   "outputs": [],
   "source": [
    "data.rename(columns = {\"Unnamed: 2\": \"Representative\", \"Unnamed: 5\":\"Metric\", \"Unnamed: 7\": \"Num\", \"Unnamed: 8\":\"Unit\"}, inplace = True)\n",
    "data.drop([\"Unnamed: 1\",\"Unnamed: 3\",\"Unnamed: 4\",\"Unnamed: 6\", \"Unnamed: 9\"], axis = 1, inplace = True)"
   ]
  },
  {
   "cell_type": "code",
   "execution_count": 7,
   "metadata": {},
   "outputs": [
    {
     "data": {
      "text/html": [
       "<div>\n",
       "<style scoped>\n",
       "    .dataframe tbody tr th:only-of-type {\n",
       "        vertical-align: middle;\n",
       "    }\n",
       "\n",
       "    .dataframe tbody tr th {\n",
       "        vertical-align: top;\n",
       "    }\n",
       "\n",
       "    .dataframe thead th {\n",
       "        text-align: right;\n",
       "    }\n",
       "</style>\n",
       "<table border=\"1\" class=\"dataframe\">\n",
       "  <thead>\n",
       "    <tr style=\"text-align: right;\">\n",
       "      <th></th>\n",
       "      <th>Representative</th>\n",
       "      <th>Metric</th>\n",
       "      <th>Num</th>\n",
       "      <th>Unit</th>\n",
       "    </tr>\n",
       "  </thead>\n",
       "  <tbody>\n",
       "    <tr>\n",
       "      <th>0</th>\n",
       "      <td>4YV5</td>\n",
       "      <td>NaN</td>\n",
       "      <td>NaN</td>\n",
       "      <td>NaN</td>\n",
       "    </tr>\n",
       "    <tr>\n",
       "      <th>1</th>\n",
       "      <td>NaN</td>\n",
       "      <td>Kd</td>\n",
       "      <td>6.20</td>\n",
       "      <td>uM</td>\n",
       "    </tr>\n",
       "    <tr>\n",
       "      <th>2</th>\n",
       "      <td>NaN</td>\n",
       "      <td>Kd</td>\n",
       "      <td>6.20</td>\n",
       "      <td>uM</td>\n",
       "    </tr>\n",
       "    <tr>\n",
       "      <th>3</th>\n",
       "      <td>1HN4</td>\n",
       "      <td>NaN</td>\n",
       "      <td>NaN</td>\n",
       "      <td>NaN</td>\n",
       "    </tr>\n",
       "    <tr>\n",
       "      <th>4</th>\n",
       "      <td>NaN</td>\n",
       "      <td>Kd</td>\n",
       "      <td>0.15</td>\n",
       "      <td>mM</td>\n",
       "    </tr>\n",
       "    <tr>\n",
       "      <th>5</th>\n",
       "      <td>3QLM</td>\n",
       "      <td>NaN</td>\n",
       "      <td>NaN</td>\n",
       "      <td>NaN</td>\n",
       "    </tr>\n",
       "    <tr>\n",
       "      <th>6</th>\n",
       "      <td>NaN</td>\n",
       "      <td>Ki</td>\n",
       "      <td>15.80</td>\n",
       "      <td>uM</td>\n",
       "    </tr>\n",
       "    <tr>\n",
       "      <th>7</th>\n",
       "      <td>5G3N</td>\n",
       "      <td>NaN</td>\n",
       "      <td>NaN</td>\n",
       "      <td>NaN</td>\n",
       "    </tr>\n",
       "  </tbody>\n",
       "</table>\n",
       "</div>"
      ],
      "text/plain": [
       "  Representative Metric    Num Unit\n",
       "0           4YV5    NaN    NaN  NaN\n",
       "1            NaN     Kd   6.20   uM\n",
       "2            NaN     Kd   6.20   uM\n",
       "3           1HN4    NaN    NaN  NaN\n",
       "4            NaN     Kd   0.15   mM\n",
       "5           3QLM    NaN    NaN  NaN\n",
       "6            NaN     Ki  15.80   uM\n",
       "7           5G3N    NaN    NaN  NaN"
      ]
     },
     "execution_count": 7,
     "metadata": {},
     "output_type": "execute_result"
    }
   ],
   "source": [
    "# data.iloc[2]\n",
    "data = data.loc[(data[\"Representative\"].notnull()) | (data[\"Metric\"].notnull()) ].reset_index()\n",
    "data.drop(\"2.4.1.69\", axis = 1, inplace = True)\n",
    "data.head(8)\n"
   ]
  },
  {
   "cell_type": "code",
   "execution_count": 8,
   "metadata": {},
   "outputs": [
    {
     "data": {
      "text/html": [
       "<div>\n",
       "<style scoped>\n",
       "    .dataframe tbody tr th:only-of-type {\n",
       "        vertical-align: middle;\n",
       "    }\n",
       "\n",
       "    .dataframe tbody tr th {\n",
       "        vertical-align: top;\n",
       "    }\n",
       "\n",
       "    .dataframe thead th {\n",
       "        text-align: right;\n",
       "    }\n",
       "</style>\n",
       "<table border=\"1\" class=\"dataframe\">\n",
       "  <thead>\n",
       "    <tr style=\"text-align: right;\">\n",
       "      <th></th>\n",
       "      <th>Representative</th>\n",
       "      <th>Metric</th>\n",
       "      <th>Num</th>\n",
       "      <th>Unit</th>\n",
       "    </tr>\n",
       "  </thead>\n",
       "  <tbody>\n",
       "    <tr>\n",
       "      <th>0</th>\n",
       "      <td>4YV5</td>\n",
       "      <td>NaN</td>\n",
       "      <td>NaN</td>\n",
       "      <td>NaN</td>\n",
       "    </tr>\n",
       "    <tr>\n",
       "      <th>1</th>\n",
       "      <td>NaN</td>\n",
       "      <td>Kd</td>\n",
       "      <td>6.200</td>\n",
       "      <td>uM</td>\n",
       "    </tr>\n",
       "    <tr>\n",
       "      <th>2</th>\n",
       "      <td>NaN</td>\n",
       "      <td>Kd</td>\n",
       "      <td>6.200</td>\n",
       "      <td>uM</td>\n",
       "    </tr>\n",
       "    <tr>\n",
       "      <th>3</th>\n",
       "      <td>1HN4</td>\n",
       "      <td>NaN</td>\n",
       "      <td>NaN</td>\n",
       "      <td>NaN</td>\n",
       "    </tr>\n",
       "    <tr>\n",
       "      <th>4</th>\n",
       "      <td>NaN</td>\n",
       "      <td>Kd</td>\n",
       "      <td>0.150</td>\n",
       "      <td>mM</td>\n",
       "    </tr>\n",
       "    <tr>\n",
       "      <th>5</th>\n",
       "      <td>3QLM</td>\n",
       "      <td>NaN</td>\n",
       "      <td>NaN</td>\n",
       "      <td>NaN</td>\n",
       "    </tr>\n",
       "    <tr>\n",
       "      <th>6</th>\n",
       "      <td>NaN</td>\n",
       "      <td>Ki</td>\n",
       "      <td>15.800</td>\n",
       "      <td>uM</td>\n",
       "    </tr>\n",
       "    <tr>\n",
       "      <th>...</th>\n",
       "      <td>...</td>\n",
       "      <td>...</td>\n",
       "      <td>...</td>\n",
       "      <td>...</td>\n",
       "    </tr>\n",
       "    <tr>\n",
       "      <th>10</th>\n",
       "      <td>1KVO</td>\n",
       "      <td>NaN</td>\n",
       "      <td>NaN</td>\n",
       "      <td>NaN</td>\n",
       "    </tr>\n",
       "    <tr>\n",
       "      <th>11</th>\n",
       "      <td>NaN</td>\n",
       "      <td>ic50</td>\n",
       "      <td>0.013</td>\n",
       "      <td>uM</td>\n",
       "    </tr>\n",
       "    <tr>\n",
       "      <th>12</th>\n",
       "      <td>NaN</td>\n",
       "      <td>ic50</td>\n",
       "      <td>0.013</td>\n",
       "      <td>uM</td>\n",
       "    </tr>\n",
       "    <tr>\n",
       "      <th>13</th>\n",
       "      <td>NaN</td>\n",
       "      <td>ic50</td>\n",
       "      <td>0.013</td>\n",
       "      <td>uM</td>\n",
       "    </tr>\n",
       "    <tr>\n",
       "      <th>14</th>\n",
       "      <td>NaN</td>\n",
       "      <td>ic50</td>\n",
       "      <td>0.013</td>\n",
       "      <td>uM</td>\n",
       "    </tr>\n",
       "    <tr>\n",
       "      <th>15</th>\n",
       "      <td>NaN</td>\n",
       "      <td>ic50</td>\n",
       "      <td>0.013</td>\n",
       "      <td>uM</td>\n",
       "    </tr>\n",
       "    <tr>\n",
       "      <th>16</th>\n",
       "      <td>NaN</td>\n",
       "      <td>ic50</td>\n",
       "      <td>0.013</td>\n",
       "      <td>uM</td>\n",
       "    </tr>\n",
       "  </tbody>\n",
       "</table>\n",
       "<p>17 rows × 4 columns</p>\n",
       "</div>"
      ],
      "text/plain": [
       "   Representative Metric     Num Unit\n",
       "0            4YV5    NaN     NaN  NaN\n",
       "1             NaN     Kd   6.200   uM\n",
       "2             NaN     Kd   6.200   uM\n",
       "3            1HN4    NaN     NaN  NaN\n",
       "4             NaN     Kd   0.150   mM\n",
       "5            3QLM    NaN     NaN  NaN\n",
       "6             NaN     Ki  15.800   uM\n",
       "..            ...    ...     ...  ...\n",
       "10           1KVO    NaN     NaN  NaN\n",
       "11            NaN   ic50   0.013   uM\n",
       "12            NaN   ic50   0.013   uM\n",
       "13            NaN   ic50   0.013   uM\n",
       "14            NaN   ic50   0.013   uM\n",
       "15            NaN   ic50   0.013   uM\n",
       "16            NaN   ic50   0.013   uM\n",
       "\n",
       "[17 rows x 4 columns]"
      ]
     },
     "execution_count": 8,
     "metadata": {},
     "output_type": "execute_result"
    }
   ],
   "source": [
    "data.head(17)"
   ]
  },
  {
   "cell_type": "code",
   "execution_count": 9,
   "metadata": {},
   "outputs": [
    {
     "name": "stdout",
     "output_type": "stream",
     "text": [
      "READY\n"
     ]
    }
   ],
   "source": [
    "value = \"\"\n",
    "\n",
    "def put_representative(row):\n",
    "    global value\n",
    "    if isinstance(row.Representative, str):\n",
    "        value = row.Representative\n",
    "    else:\n",
    "        row.Representative = value\n",
    "    return row\n",
    "    \n",
    "data = data.apply(put_representative, axis = 'columns')\n",
    "\n",
    "data.head()\n",
    "print(\"READY\")"
   ]
  },
  {
   "cell_type": "code",
   "execution_count": 10,
   "metadata": {},
   "outputs": [
    {
     "name": "stdout",
     "output_type": "stream",
     "text": [
      "READY\n"
     ]
    }
   ],
   "source": [
    "data.drop_duplicates(inplace = True)\n",
    "print(\"READY\")"
   ]
  },
  {
   "cell_type": "code",
   "execution_count": 11,
   "metadata": {},
   "outputs": [
    {
     "name": "stdout",
     "output_type": "stream",
     "text": [
      "READY\n"
     ]
    }
   ],
   "source": [
    "data.head()\n",
    "data.drop(data[data.Metric.isnull()].index.values, axis = 0, inplace = True)\n",
    "print(\"READY\")"
   ]
  },
  {
   "cell_type": "code",
   "execution_count": null,
   "metadata": {},
   "outputs": [],
   "source": []
  },
  {
   "cell_type": "code",
   "execution_count": 12,
   "metadata": {},
   "outputs": [
    {
     "name": "stdout",
     "output_type": "stream",
     "text": [
      "READY\n"
     ]
    }
   ],
   "source": [
    "data.head()\n",
    "print(\"READY\")"
   ]
  },
  {
   "cell_type": "code",
   "execution_count": 13,
   "metadata": {},
   "outputs": [
    {
     "name": "stdout",
     "output_type": "stream",
     "text": [
      "READY\n"
     ]
    }
   ],
   "source": [
    "import os \n",
    "\n",
    "pdb_path = \"/home/mussaa/Downloads/AkeFiles/Files/project_ver2/new_version/ProteinLigandPredictor/structured/utils/processing/specific_protein/list\"\n",
    "\n",
    "def unique_pdb(path):\n",
    "    unique_pdb = set()\n",
    "    current_path = os.path.abspath(path)\n",
    "\n",
    "    with open(current_path, 'r') as file_reader:\n",
    "        for line in file_reader:\n",
    "            unique_pdb.add(line[:4])\n",
    "\n",
    "    return unique_pdb\n",
    "\n",
    "unique = unique_pdb(pdb_path)\n",
    "unique = list(unique)\n",
    "print(\"READY\")"
   ]
  },
  {
   "cell_type": "code",
   "execution_count": 14,
   "metadata": {},
   "outputs": [
    {
     "data": {
      "text/plain": [
       "ic50    862\n",
       "Ki      188\n",
       "Kd      138\n",
       "Name: Metric, dtype: int64"
      ]
     },
     "execution_count": 14,
     "metadata": {},
     "output_type": "execute_result"
    }
   ],
   "source": [
    "# def find_match():\n",
    "#     count = 0\n",
    "#     global unique\n",
    "    \n",
    "#     for pdb in unique:\n",
    "#         data.\n",
    "\n",
    "\n",
    "data.loc[data.Representative.isin(unique)].Metric.value_counts()\n"
   ]
  },
  {
   "cell_type": "code",
   "execution_count": 15,
   "metadata": {},
   "outputs": [
    {
     "name": "stdout",
     "output_type": "stream",
     "text": [
      "3362 (9403, 4)\n"
     ]
    }
   ],
   "source": [
    "print(len(unique), data.shape)"
   ]
  },
  {
   "cell_type": "code",
   "execution_count": 16,
   "metadata": {},
   "outputs": [
    {
     "data": {
      "text/html": [
       "<div>\n",
       "<style scoped>\n",
       "    .dataframe tbody tr th:only-of-type {\n",
       "        vertical-align: middle;\n",
       "    }\n",
       "\n",
       "    .dataframe tbody tr th {\n",
       "        vertical-align: top;\n",
       "    }\n",
       "\n",
       "    .dataframe thead th {\n",
       "        text-align: right;\n",
       "    }\n",
       "</style>\n",
       "<table border=\"1\" class=\"dataframe\">\n",
       "  <thead>\n",
       "    <tr style=\"text-align: right;\">\n",
       "      <th></th>\n",
       "      <th>Representative</th>\n",
       "      <th>Metric</th>\n",
       "      <th>Num</th>\n",
       "      <th>Unit</th>\n",
       "    </tr>\n",
       "  </thead>\n",
       "  <tbody>\n",
       "    <tr>\n",
       "      <th>1</th>\n",
       "      <td>4YV5</td>\n",
       "      <td>Kd</td>\n",
       "      <td>6.200</td>\n",
       "      <td>uM</td>\n",
       "    </tr>\n",
       "    <tr>\n",
       "      <th>4</th>\n",
       "      <td>1HN4</td>\n",
       "      <td>Kd</td>\n",
       "      <td>0.150</td>\n",
       "      <td>mM</td>\n",
       "    </tr>\n",
       "    <tr>\n",
       "      <th>6</th>\n",
       "      <td>3QLM</td>\n",
       "      <td>Ki</td>\n",
       "      <td>15.800</td>\n",
       "      <td>uM</td>\n",
       "    </tr>\n",
       "    <tr>\n",
       "      <th>8</th>\n",
       "      <td>5G3N</td>\n",
       "      <td>ic50</td>\n",
       "      <td>0.012</td>\n",
       "      <td>uM</td>\n",
       "    </tr>\n",
       "    <tr>\n",
       "      <th>11</th>\n",
       "      <td>1KVO</td>\n",
       "      <td>ic50</td>\n",
       "      <td>0.013</td>\n",
       "      <td>uM</td>\n",
       "    </tr>\n",
       "    <tr>\n",
       "      <th>18</th>\n",
       "      <td>1J1A</td>\n",
       "      <td>ic50</td>\n",
       "      <td>0.029</td>\n",
       "      <td>uM</td>\n",
       "    </tr>\n",
       "    <tr>\n",
       "      <th>21</th>\n",
       "      <td>4UY1</td>\n",
       "      <td>ic50</td>\n",
       "      <td>20.000</td>\n",
       "      <td>uM</td>\n",
       "    </tr>\n",
       "    <tr>\n",
       "      <th>...</th>\n",
       "      <td>...</td>\n",
       "      <td>...</td>\n",
       "      <td>...</td>\n",
       "      <td>...</td>\n",
       "    </tr>\n",
       "    <tr>\n",
       "      <th>277</th>\n",
       "      <td>3F5L</td>\n",
       "      <td>Ki</td>\n",
       "      <td>0.191</td>\n",
       "      <td>mM</td>\n",
       "    </tr>\n",
       "    <tr>\n",
       "      <th>280</th>\n",
       "      <td>2O9R</td>\n",
       "      <td>Ki</td>\n",
       "      <td>21.000</td>\n",
       "      <td>mM</td>\n",
       "    </tr>\n",
       "    <tr>\n",
       "      <th>282</th>\n",
       "      <td>5BX3</td>\n",
       "      <td>Ki</td>\n",
       "      <td>0.130</td>\n",
       "      <td>uM</td>\n",
       "    </tr>\n",
       "    <tr>\n",
       "      <th>284</th>\n",
       "      <td>5BX4</td>\n",
       "      <td>Ki</td>\n",
       "      <td>0.340</td>\n",
       "      <td>uM</td>\n",
       "    </tr>\n",
       "    <tr>\n",
       "      <th>286</th>\n",
       "      <td>5BX5</td>\n",
       "      <td>Ki</td>\n",
       "      <td>4.000</td>\n",
       "      <td>mM</td>\n",
       "    </tr>\n",
       "    <tr>\n",
       "      <th>288</th>\n",
       "      <td>5HLD</td>\n",
       "      <td>ic50</td>\n",
       "      <td>64.300</td>\n",
       "      <td>nM</td>\n",
       "    </tr>\n",
       "    <tr>\n",
       "      <th>290</th>\n",
       "      <td>5HLB</td>\n",
       "      <td>ic50</td>\n",
       "      <td>64.300</td>\n",
       "      <td>nM</td>\n",
       "    </tr>\n",
       "  </tbody>\n",
       "</table>\n",
       "<p>100 rows × 4 columns</p>\n",
       "</div>"
      ],
      "text/plain": [
       "    Representative Metric     Num Unit\n",
       "1             4YV5     Kd   6.200   uM\n",
       "4             1HN4     Kd   0.150   mM\n",
       "6             3QLM     Ki  15.800   uM\n",
       "8             5G3N   ic50   0.012   uM\n",
       "11            1KVO   ic50   0.013   uM\n",
       "18            1J1A   ic50   0.029   uM\n",
       "21            4UY1   ic50  20.000   uM\n",
       "..             ...    ...     ...  ...\n",
       "277           3F5L     Ki   0.191   mM\n",
       "280           2O9R     Ki  21.000   mM\n",
       "282           5BX3     Ki   0.130   uM\n",
       "284           5BX4     Ki   0.340   uM\n",
       "286           5BX5     Ki   4.000   mM\n",
       "288           5HLD   ic50  64.300   nM\n",
       "290           5HLB   ic50  64.300   nM\n",
       "\n",
       "[100 rows x 4 columns]"
      ]
     },
     "execution_count": 16,
     "metadata": {},
     "output_type": "execute_result"
    }
   ],
   "source": [
    "data.head(100)"
   ]
  },
  {
   "cell_type": "code",
   "execution_count": 17,
   "metadata": {},
   "outputs": [],
   "source": [
    "data = data.reset_index()\n"
   ]
  },
  {
   "cell_type": "code",
   "execution_count": 18,
   "metadata": {},
   "outputs": [],
   "source": [
    "data.drop(\"index\", axis = \"columns\", inplace = True)"
   ]
  },
  {
   "cell_type": "code",
   "execution_count": 19,
   "metadata": {},
   "outputs": [
    {
     "data": {
      "text/html": [
       "<div>\n",
       "<style scoped>\n",
       "    .dataframe tbody tr th:only-of-type {\n",
       "        vertical-align: middle;\n",
       "    }\n",
       "\n",
       "    .dataframe tbody tr th {\n",
       "        vertical-align: top;\n",
       "    }\n",
       "\n",
       "    .dataframe thead th {\n",
       "        text-align: right;\n",
       "    }\n",
       "</style>\n",
       "<table border=\"1\" class=\"dataframe\">\n",
       "  <thead>\n",
       "    <tr style=\"text-align: right;\">\n",
       "      <th></th>\n",
       "      <th>Representative</th>\n",
       "      <th>Metric</th>\n",
       "      <th>Num</th>\n",
       "      <th>Unit</th>\n",
       "    </tr>\n",
       "  </thead>\n",
       "  <tbody>\n",
       "    <tr>\n",
       "      <th>0</th>\n",
       "      <td>4YV5</td>\n",
       "      <td>Kd</td>\n",
       "      <td>6.200000</td>\n",
       "      <td>uM</td>\n",
       "    </tr>\n",
       "    <tr>\n",
       "      <th>1</th>\n",
       "      <td>1HN4</td>\n",
       "      <td>Kd</td>\n",
       "      <td>0.150000</td>\n",
       "      <td>mM</td>\n",
       "    </tr>\n",
       "    <tr>\n",
       "      <th>2</th>\n",
       "      <td>3QLM</td>\n",
       "      <td>Ki</td>\n",
       "      <td>15.800000</td>\n",
       "      <td>uM</td>\n",
       "    </tr>\n",
       "    <tr>\n",
       "      <th>3</th>\n",
       "      <td>5G3N</td>\n",
       "      <td>ic50</td>\n",
       "      <td>0.012000</td>\n",
       "      <td>uM</td>\n",
       "    </tr>\n",
       "    <tr>\n",
       "      <th>4</th>\n",
       "      <td>1KVO</td>\n",
       "      <td>ic50</td>\n",
       "      <td>0.013000</td>\n",
       "      <td>uM</td>\n",
       "    </tr>\n",
       "    <tr>\n",
       "      <th>5</th>\n",
       "      <td>1J1A</td>\n",
       "      <td>ic50</td>\n",
       "      <td>0.029000</td>\n",
       "      <td>uM</td>\n",
       "    </tr>\n",
       "    <tr>\n",
       "      <th>6</th>\n",
       "      <td>4UY1</td>\n",
       "      <td>ic50</td>\n",
       "      <td>20.000000</td>\n",
       "      <td>uM</td>\n",
       "    </tr>\n",
       "    <tr>\n",
       "      <th>7</th>\n",
       "      <td>5G3M</td>\n",
       "      <td>ic50</td>\n",
       "      <td>24.000000</td>\n",
       "      <td>uM</td>\n",
       "    </tr>\n",
       "    <tr>\n",
       "      <th>8</th>\n",
       "      <td>1JQ9</td>\n",
       "      <td>Kd</td>\n",
       "      <td>3.570000</td>\n",
       "      <td>nM</td>\n",
       "    </tr>\n",
       "    <tr>\n",
       "      <th>9</th>\n",
       "      <td>2QVD</td>\n",
       "      <td>Kd</td>\n",
       "      <td>0.000001</td>\n",
       "      <td>M</td>\n",
       "    </tr>\n",
       "    <tr>\n",
       "      <th>10</th>\n",
       "      <td>2ARM</td>\n",
       "      <td>Ki</td>\n",
       "      <td>7.400000</td>\n",
       "      <td>nM</td>\n",
       "    </tr>\n",
       "    <tr>\n",
       "      <th>11</th>\n",
       "      <td>1FV0</td>\n",
       "      <td>Kd</td>\n",
       "      <td>1.180000</td>\n",
       "      <td>uM</td>\n",
       "    </tr>\n",
       "    <tr>\n",
       "      <th>12</th>\n",
       "      <td>1Q7A</td>\n",
       "      <td>Kd</td>\n",
       "      <td>0.064000</td>\n",
       "      <td>uM</td>\n",
       "    </tr>\n",
       "    <tr>\n",
       "      <th>13</th>\n",
       "      <td>1KPM</td>\n",
       "      <td>Ki</td>\n",
       "      <td>1.590000</td>\n",
       "      <td>uM</td>\n",
       "    </tr>\n",
       "    <tr>\n",
       "      <th>14</th>\n",
       "      <td>1JQ8</td>\n",
       "      <td>Ki</td>\n",
       "      <td>1.010000</td>\n",
       "      <td>uM</td>\n",
       "    </tr>\n",
       "  </tbody>\n",
       "</table>\n",
       "</div>"
      ],
      "text/plain": [
       "   Representative Metric        Num Unit\n",
       "0            4YV5     Kd   6.200000   uM\n",
       "1            1HN4     Kd   0.150000   mM\n",
       "2            3QLM     Ki  15.800000   uM\n",
       "3            5G3N   ic50   0.012000   uM\n",
       "4            1KVO   ic50   0.013000   uM\n",
       "5            1J1A   ic50   0.029000   uM\n",
       "6            4UY1   ic50  20.000000   uM\n",
       "7            5G3M   ic50  24.000000   uM\n",
       "8            1JQ9     Kd   3.570000   nM\n",
       "9            2QVD     Kd   0.000001    M\n",
       "10           2ARM     Ki   7.400000   nM\n",
       "11           1FV0     Kd   1.180000   uM\n",
       "12           1Q7A     Kd   0.064000   uM\n",
       "13           1KPM     Ki   1.590000   uM\n",
       "14           1JQ8     Ki   1.010000   uM"
      ]
     },
     "execution_count": 19,
     "metadata": {},
     "output_type": "execute_result"
    }
   ],
   "source": [
    "data.head(15)"
   ]
  },
  {
   "cell_type": "code",
   "execution_count": 36,
   "metadata": {},
   "outputs": [
    {
     "data": {
      "text/plain": [
       "ic50    862\n",
       "Kd      138\n",
       "Name: Metric, dtype: int64"
      ]
     },
     "execution_count": 36,
     "metadata": {},
     "output_type": "execute_result"
    }
   ],
   "source": [
    "data.loc[data.Representative.isin(unique)].Metric.value_counts().loc[[\"ic50\", \"Kd\"]]"
   ]
  },
  {
   "cell_type": "code",
   "execution_count": 21,
   "metadata": {},
   "outputs": [],
   "source": [
    "data.to_csv(os.path.abspath(\"formatted_binding.csv\"))"
   ]
  },
  {
   "cell_type": "code",
   "execution_count": null,
   "metadata": {},
   "outputs": [],
   "source": []
  }
 ],
 "metadata": {
  "kernelspec": {
   "display_name": "Python 3",
   "language": "python",
   "name": "python3"
  },
  "language_info": {
   "codemirror_mode": {
    "name": "ipython",
    "version": 3
   },
   "file_extension": ".py",
   "mimetype": "text/x-python",
   "name": "python",
   "nbconvert_exporter": "python",
   "pygments_lexer": "ipython3",
   "version": "3.7.3"
  }
 },
 "nbformat": 4,
 "nbformat_minor": 2
}
